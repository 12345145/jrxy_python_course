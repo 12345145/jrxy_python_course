{
 "cells": [
  {
   "cell_type": "markdown",
   "metadata": {},
   "source": [
    "### DataBase\n",
    "\n",
    "#### What is database\n",
    "\n",
    "Database, also called electronic database, any collection of data, or information, that is specially organized for rapid search and retrieval by a computer. Databases are structured to facilitate the storage, retrieval, modification, and deletion of data in conjunction with various data-processing operations. \n",
    "\n",
    "#### Types of database\n",
    "\n",
    "In a relational database, digital information about a specific customer is organized into rows, columns and tables which are indexed to make it easier to find relevant information through SQL or NoSQL queries.\n",
    "\n",
    "**SQL**  Structured Query Language\n",
    "\n",
    "SQL is a domain-specific language used in programming and designed for managing data held in a relational database management system, or for stream processing in a relational data stream management system.\n",
    "\n",
    "**NoSQL** Not only SQL \n",
    "\n",
    "MongoDB is an open source NoSQL database management program. NoSQL is used as an alternative to traditional relational database."
   ]
  },
  {
   "cell_type": "markdown",
   "metadata": {},
   "source": [
    "### MySQL \n",
    "\n",
    "A SQL query is a question you ask the database. If any of the data in the database satisfies the conditions of your query, SQL retrieves that data.\n",
    "\n",
    ">A SQL query is a question you ask the database. If any of the data in the database satisfies the conditions of your query, SQL retrieves that data.\n",
    "\n",
    "`SELECT * FROM EMPLOYEE WHERE Age > 40 OR Salary > 100000`\n",
    "\n",
    "If in case MySQL is not available, you might use MariaDB instead. \n"
   ]
  },
  {
   "cell_type": "markdown",
   "metadata": {},
   "source": [
    "### MongoDB\n",
    "\n"
   ]
  }
 ],
 "metadata": {
  "kernelspec": {
   "display_name": "Python 3",
   "language": "python",
   "name": "python3"
  },
  "language_info": {
   "codemirror_mode": {
    "name": "ipython",
    "version": 3
   },
   "file_extension": ".py",
   "mimetype": "text/x-python",
   "name": "python",
   "nbconvert_exporter": "python",
   "pygments_lexer": "ipython3",
   "version": "3.7.0"
  }
 },
 "nbformat": 4,
 "nbformat_minor": 4
}
