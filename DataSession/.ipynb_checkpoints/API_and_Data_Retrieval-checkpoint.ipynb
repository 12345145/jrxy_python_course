{
 "cells": [
  {
   "cell_type": "markdown",
   "metadata": {},
   "source": [
    "### API\n",
    "\n",
    "\n",
    "#### What is API\n",
    "\n",
    "API stands for **Application Programming Interface**. An API is a software intermediary that allows two applications to talk to each other.  In other words, an API is the messenger that delivers your request to the provider that you’re requesting it from and then delivers the response back to you.\n",
    "\n",
    "#### How do APIs work?\n",
    "Imagine a waiter in a restaurant.  You, the customer, are sitting at the table with a menu of choices to order from, and the kitchen is the provider who will fulfill your order.\n",
    "\n",
    "You need a link to communicate your order to the kitchen and then to deliver your food back to your table. It can’t be the chef because she’s cooking in the kitchen. You need something to connect the customer who’s ordering food and the chef who prepares it.  That’s where the **waiter** — or the **API** —  enters the picture.\n",
    "\n",
    "The waiter takes your order, delivers it to the kitchen, telling the kitchen what to do. It then delivers the response, in this case, the food, back to you. Moreover, if the API is designed correctly, hopefully, your order won’t crash!\n",
    "\n",
    "#### A real example of an API\n",
    "\n",
    "How are APIs used in the real world? Here’s a very common scenario of the API economy at work: booking a flight.\n",
    "\n",
    "When you search for flights online, you have a menu of options to choose from. You choose a departure city and date, a return city and date, cabin class, and other variables like your meal, your seat, or baggage requests.\n",
    "\n",
    "To book your flight, you need to interact with the airline’s website to access the airline’s database to see if any seats are available on those dates, and what the cost might be based on the date, flight time, route popularity, etc.\n",
    "\n",
    "You need access to that information from the airline’s database, whether you’re interacting with it from the website or an online travel service that aggregates information from multiple airlines. Alternatively, you might be accessing the information from a mobile phone. In any case, you need to get the information, and so the application must interact with the airline’s API, giving it access to the airline’s data.\n",
    "\n",
    "**APIs provide a standard way of accessing any application data, or device**"
   ]
  },
  {
   "cell_type": "markdown",
   "metadata": {},
   "source": [
    "### Pandas_datareader\n",
    "\n",
    "#### Install \n",
    "pip install pandas-datareader\n",
    "\n",
    "#### Data Readers\n",
    "- AlphaVantage\n",
    "- Federal Reserve Economic Data (FRED)\n",
    "- Fama-French Data (Ken French’s Data Library)\n",
    "- Bank of Canada\n",
    "- Econdb\n",
    "- Enigma\n",
    "- Eurostat\n",
    "- The Investors Exchange (IEX)\n",
    "- Moscow Exchange (MOEX)\n",
    "- NASDAQ\n",
    "- Naver Finance\n",
    "- Organisation for Economic Co-operation and Development (OECD)\n",
    "- Quandl\n",
    "- Stooq.com\n",
    "- Tiingo\n",
    "- Thrift Savings Plan (TSP)\n",
    "- World Bank\n",
    "\n",
    "You may not be able to use all datasets. \n",
    "\n",
    "Please refer to its Github Repo for more details: [link here](https://pandas-datareader.readthedocs.io/en/latest/readers/index.html)"
   ]
  },
  {
   "cell_type": "markdown",
   "metadata": {},
   "source": [
    "#### Data from FRED St.Louis"
   ]
  },
  {
   "cell_type": "code",
   "execution_count": 2,
   "metadata": {},
   "outputs": [
    {
     "data": {
      "text/html": [
       "<div>\n",
       "<style scoped>\n",
       "    .dataframe tbody tr th:only-of-type {\n",
       "        vertical-align: middle;\n",
       "    }\n",
       "\n",
       "    .dataframe tbody tr th {\n",
       "        vertical-align: top;\n",
       "    }\n",
       "\n",
       "    .dataframe thead th {\n",
       "        text-align: right;\n",
       "    }\n",
       "</style>\n",
       "<table border=\"1\" class=\"dataframe\">\n",
       "  <thead>\n",
       "    <tr style=\"text-align: right;\">\n",
       "      <th></th>\n",
       "      <th>GS10</th>\n",
       "    </tr>\n",
       "    <tr>\n",
       "      <th>DATE</th>\n",
       "      <th></th>\n",
       "    </tr>\n",
       "  </thead>\n",
       "  <tbody>\n",
       "    <tr>\n",
       "      <th>2015-10-01</th>\n",
       "      <td>2.07</td>\n",
       "    </tr>\n",
       "    <tr>\n",
       "      <th>2015-11-01</th>\n",
       "      <td>2.26</td>\n",
       "    </tr>\n",
       "    <tr>\n",
       "      <th>2015-12-01</th>\n",
       "      <td>2.24</td>\n",
       "    </tr>\n",
       "    <tr>\n",
       "      <th>2016-01-01</th>\n",
       "      <td>2.09</td>\n",
       "    </tr>\n",
       "    <tr>\n",
       "      <th>2016-02-01</th>\n",
       "      <td>1.78</td>\n",
       "    </tr>\n",
       "  </tbody>\n",
       "</table>\n",
       "</div>"
      ],
      "text/plain": [
       "            GS10\n",
       "DATE            \n",
       "2015-10-01  2.07\n",
       "2015-11-01  2.26\n",
       "2015-12-01  2.24\n",
       "2016-01-01  2.09\n",
       "2016-02-01  1.78"
      ]
     },
     "execution_count": 2,
     "metadata": {},
     "output_type": "execute_result"
    }
   ],
   "source": [
    "import pandas_datareader as pdr\n",
    "pd = pdr.get_data_fred('GS10')\n",
    "pd.head()"
   ]
  },
  {
   "cell_type": "code",
   "execution_count": null,
   "metadata": {},
   "outputs": [],
   "source": [
    "import pandas_datareader.data as web\n",
    "import datetime\n",
    "start = datetime.datetime(2015,1,1)\n",
    "end = datetime.datetime(2020,1,1)\n",
    "gdp = web.DataReader('GDP', 'fred', start, end)\n",
    "gdp.head()"
   ]
  },
  {
   "cell_type": "markdown",
   "metadata": {},
   "source": [
    "#### Data from Yahoo"
   ]
  },
  {
   "cell_type": "code",
   "execution_count": 7,
   "metadata": {},
   "outputs": [
    {
     "data": {
      "text/html": [
       "<div>\n",
       "<style scoped>\n",
       "    .dataframe tbody tr th:only-of-type {\n",
       "        vertical-align: middle;\n",
       "    }\n",
       "\n",
       "    .dataframe tbody tr th {\n",
       "        vertical-align: top;\n",
       "    }\n",
       "\n",
       "    .dataframe thead th {\n",
       "        text-align: right;\n",
       "    }\n",
       "</style>\n",
       "<table border=\"1\" class=\"dataframe\">\n",
       "  <thead>\n",
       "    <tr style=\"text-align: right;\">\n",
       "      <th></th>\n",
       "      <th>High</th>\n",
       "      <th>Low</th>\n",
       "      <th>Open</th>\n",
       "      <th>Close</th>\n",
       "      <th>Volume</th>\n",
       "      <th>Adj Close</th>\n",
       "    </tr>\n",
       "    <tr>\n",
       "      <th>Date</th>\n",
       "      <th></th>\n",
       "      <th></th>\n",
       "      <th></th>\n",
       "      <th></th>\n",
       "      <th></th>\n",
       "      <th></th>\n",
       "    </tr>\n",
       "  </thead>\n",
       "  <tbody>\n",
       "    <tr>\n",
       "      <th>2020-08-25</th>\n",
       "      <td>125.180000</td>\n",
       "      <td>123.052498</td>\n",
       "      <td>124.697502</td>\n",
       "      <td>124.824997</td>\n",
       "      <td>211495600.0</td>\n",
       "      <td>124.824997</td>\n",
       "    </tr>\n",
       "    <tr>\n",
       "      <th>2020-08-26</th>\n",
       "      <td>126.992500</td>\n",
       "      <td>125.082497</td>\n",
       "      <td>126.180000</td>\n",
       "      <td>126.522499</td>\n",
       "      <td>163022400.0</td>\n",
       "      <td>126.522499</td>\n",
       "    </tr>\n",
       "    <tr>\n",
       "      <th>2020-08-27</th>\n",
       "      <td>127.485001</td>\n",
       "      <td>123.832497</td>\n",
       "      <td>127.142502</td>\n",
       "      <td>125.010002</td>\n",
       "      <td>155552400.0</td>\n",
       "      <td>125.010002</td>\n",
       "    </tr>\n",
       "    <tr>\n",
       "      <th>2020-08-28</th>\n",
       "      <td>126.442497</td>\n",
       "      <td>124.577499</td>\n",
       "      <td>126.012497</td>\n",
       "      <td>124.807503</td>\n",
       "      <td>187151600.0</td>\n",
       "      <td>124.807503</td>\n",
       "    </tr>\n",
       "    <tr>\n",
       "      <th>2020-08-31</th>\n",
       "      <td>130.050003</td>\n",
       "      <td>126.000000</td>\n",
       "      <td>127.580002</td>\n",
       "      <td>128.960007</td>\n",
       "      <td>124481967.0</td>\n",
       "      <td>128.960007</td>\n",
       "    </tr>\n",
       "  </tbody>\n",
       "</table>\n",
       "</div>"
      ],
      "text/plain": [
       "                  High         Low        Open       Close       Volume  \\\n",
       "Date                                                                      \n",
       "2020-08-25  125.180000  123.052498  124.697502  124.824997  211495600.0   \n",
       "2020-08-26  126.992500  125.082497  126.180000  126.522499  163022400.0   \n",
       "2020-08-27  127.485001  123.832497  127.142502  125.010002  155552400.0   \n",
       "2020-08-28  126.442497  124.577499  126.012497  124.807503  187151600.0   \n",
       "2020-08-31  130.050003  126.000000  127.580002  128.960007  124481967.0   \n",
       "\n",
       "             Adj Close  \n",
       "Date                    \n",
       "2020-08-25  124.824997  \n",
       "2020-08-26  126.522499  \n",
       "2020-08-27  125.010002  \n",
       "2020-08-28  124.807503  \n",
       "2020-08-31  128.960007  "
      ]
     },
     "execution_count": 7,
     "metadata": {},
     "output_type": "execute_result"
    }
   ],
   "source": [
    "# Get data from Yahoo\n",
    "import pandas_datareader.data as web\n",
    "import datetime\n",
    "start = datetime.datetime(2019, 1, 1) # or start = '1/1/2016'\n",
    "end = datetime.date.today()\n",
    "prices = web.DataReader('AAPL', 'yahoo', start, end)\n",
    "prices.tail()"
   ]
  },
  {
   "cell_type": "markdown",
   "metadata": {},
   "source": [
    "#### OECD\n",
    "\n",
    "https://stats.oecd.org/\n",
    "\n",
    "The OECD has application programming interfaces (APIs) that provide access to datasets in the catalogue of OECD databases.\n",
    "\n",
    "Please see the instruction of API as follows\n",
    "\n",
    "https://data.oecd.org/api/sdmx-json-documentation/\n"
   ]
  },
  {
   "cell_type": "code",
   "execution_count": null,
   "metadata": {
    "collapsed": true,
    "jupyter": {
     "outputs_hidden": true
    }
   },
   "outputs": [],
   "source": []
  }
 ],
 "metadata": {
  "kernelspec": {
   "display_name": "Python 3",
   "language": "python",
   "name": "python3"
  },
  "language_info": {
   "codemirror_mode": {
    "name": "ipython",
    "version": 3
   },
   "file_extension": ".py",
   "mimetype": "text/x-python",
   "name": "python",
   "nbconvert_exporter": "python",
   "pygments_lexer": "ipython3",
   "version": "3.7.0"
  }
 },
 "nbformat": 4,
 "nbformat_minor": 4
}
