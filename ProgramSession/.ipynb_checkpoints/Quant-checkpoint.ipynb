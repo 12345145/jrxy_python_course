{
 "cells": [
  {
   "cell_type": "code",
   "execution_count": 1,
   "metadata": {},
   "outputs": [],
   "source": [
    "# load data from multiple data source\n",
    "import tushare as ts\n",
    "import numpy as np\n",
    "import pandas as pd\n",
    "\n",
    "tushare_token = '1c8b06446534ae510c8c68e38fc248b99f89ac3814cb55645ae2be72'  \n",
    "# 请在 tushare.pro 网站注册并且告知学生身份，可以取得你的token\n",
    "pro = ts.pro_api(tushare_token)"
   ]
  },
  {
   "cell_type": "code",
   "execution_count": 2,
   "metadata": {},
   "outputs": [],
   "source": [
    "def collect_stock_data_pro(code, start_date, end_date):\n",
    "    try:\n",
    "        stk_data = pro.daily(ts_code = code, start_date =start_date , end_date = end_date)\n",
    "        \n",
    "        return stk_data\n",
    "    except:\n",
    "        print('Stock '+code+' could not collect from Tushare Pro')"
   ]
  },
  {
   "cell_type": "code",
   "execution_count": 3,
   "metadata": {},
   "outputs": [],
   "source": [
    "def random_pick_stocks_code_pro(n): \n",
    "    stock_list = pro.stock_basic(exchange='', list_status='L', fields='ts_code,symbol,name,area,industry,list_date')\n",
    "    ind = [x[0] for x in list(np.random.randint(low = 0, high = len(stock_list), size = (n, 1)))]\n",
    "    return list(stock_list.iloc[ind]['ts_code'])\n"
   ]
  },
  {
   "cell_type": "code",
   "execution_count": 4,
   "metadata": {},
   "outputs": [],
   "source": [
    "start_date='20170701'\n",
    "end_date='20200730'\n",
    "n = 3 # number of stocks you wanna collect from Tushare\n",
    "\n",
    "codes = random_pick_stocks_code_pro(n)\n",
    "stock_list = []\n",
    "for c in codes:\n",
    "    stock_info = {}\n",
    "    stock_info['code'] =  c\n",
    "    stock_info['data'] = collect_stock_data_pro(c, start_date, end_date)\n",
    "    stock_list.append(stock_info)"
   ]
  },
  {
   "cell_type": "markdown",
   "metadata": {},
   "source": [
    "### The Sharpe Ratio\n",
    "\n",
    "The Sharpe ratio is perhaps the most widely used tool for evaluating the risk-adjusted rate of return on investment portfolios. It does so by comparing the actual or expected return on an investment to the return on a risk-free investment, such as bond. It compares the two rates of return, factoring in the standard deviation for the investment portfolio, to provide an investor with an idea of how much additional gain he or she is receiving (if any) in return for taking on the additional risk associated with investing in equities."
   ]
  },
  {
   "cell_type": "markdown",
   "metadata": {},
   "source": [
    "#### Daily Stock Returns and Sharpe Ratio Calculation\n",
    "- Calculate the daily stock returns for the two investment opportunities i.e. stocks and CIS300 and name as “stock_returns” and “benchmark_returns”.\n",
    "- Calculate the relative performance of stocks vs. the benchmark by taking the difference in returns between stock_returns and benchmark_returns for each day. Name it as “excess_returns”.\n",
    "- Calculate the average of the excess_returns. This tells us how much more or less the investment yields per day compared to the benchmark. Name it as “avg_excess_returns”.\n",
    "- Calculate the standard deviation of the excess_returns. This shows us the amount of risk an investment in the stocks implies as compared to an investment in the benchmark. Name it as “std_excess_returns”.\n",
    "- Compute the ratio of avg_excess_returns and std_excess_returns. The result is now finally the Sharpe ratio and indicates how much more or less return the investment opportunity under consideration yields per unit of risk.\n",
    "- Note that Sharpe Ratio is often annualized by multiplying it by the square root of the number of periods. We have used daily data as input, so we’ll use the square root of the number of trading days."
   ]
  },
  {
   "cell_type": "code",
   "execution_count": null,
   "metadata": {},
   "outputs": [],
   "source": [
    "# calculate daily stock returns for the banks\n",
    "stock_returns = stock_list[0]['data'].pct_chg\n",
    "\n",
    "# calculate daily stock returns for S&P\n",
    "benchmark_returns = benchmark.pct_change()\n",
    "\n",
    "# calculate the difference in daily returns for stocks vs S&P\n",
    "excess_returns = stock_returns.sub(benchmark_returns, axis=0)\n",
    "\n",
    "# calculate the mean of excess_returns \n",
    "avg_excess_return = excess_returns.mean()\n",
    "avg_excess_return.plot.bar(title='Average of excess return')"
   ]
  },
  {
   "cell_type": "code",
   "execution_count": null,
   "metadata": {},
   "outputs": [],
   "source": [
    "# calculate the standard deviation for daily excess return\n",
    "std_excess_return = excess_returns.std()\n",
    "std_excess_return.plot.bar(title='Standard Deviation of the excess return')"
   ]
  },
  {
   "cell_type": "code",
   "execution_count": null,
   "metadata": {},
   "outputs": [],
   "source": [
    "# calculate the daily sharpe ratio\n",
    "daily_sharpe_ratio = avg_excess_return.div(std_excess_return)\n",
    "# annualize the sharpe ratio\n",
    "ann = np.sqrt(len(benchmark))\n",
    "annual_sharpe_ratio = daily_sharpe_ratio.mul(ann)\n",
    "annual_sharpe_ratio.plot.bar(title='Sharpe Ratio: Stocks vs CIS 300')"
   ]
  },
  {
   "cell_type": "markdown",
   "metadata": {},
   "source": [
    "#### Information Ratio\n",
    "\n",
    "The information ratio in finance is one of the most important ratios in **active management**. The appraisal ratio measures the level of outperformance of an active strategy over the benchmark. \n",
    "\n",
    "$$IR = \\frac{E(r_s-r_b)}{std(r_s-r_b)}$$\n",
    "\n",
    "where $r_s$ is the strategy return and $r_b$ is the benchmark return, and the $std(r_s-r_b)$ could be interpreted as the **tracking error**. The difference between both is the **active return**. As such, the IR is equal to the expected active return divided by the tracking error. In other words, the ratio measures the active return of the investor's strategy divided by the amount of risk that he takes relative the the benchmark. \n",
    "\n",
    "##### Key Concept\n",
    "\n",
    "1. The information ratio is a measurement of portfolio returns above the returns of a benchmark. \n",
    "2. The information ratio is used to evaluate the skill of a portfolio manager at generating returns in excess of a given benchmark.\n",
    "3. A higher (0.3 - 0.4 would be fairly good) IR result implies a better portfolio manager who's achieving a higher return in excess of the benchmark, given the risk taken\n",
    "\n",
    "\n",
    "The information ratio identifies how much a fund has exceeded a benchmark. Higher information ratios indicate a desired level of consistency, whereas low information ratios indicate the opposite. Many investors use the information ratio when selecting exchange-traded funds (ETFs) or mutual funds based on their preferred risk profiles. Of course, past performance is not an indicator of future results, but the IR is used to determine whether a portfolio is exceeding a benchmark index fund.\n",
    "\n",
    "#### Limitation\n",
    "Comparing multiple funds against a benchmark is difficult to interpret because the funds might have different securities, asset allocations for each sector and entry points in their investments. As with any single financial ratio, it's best to look at additional types of ratios and other financial metrics to make a more comprehensive and informed investment decision."
   ]
  },
  {
   "cell_type": "code",
   "execution_count": null,
   "metadata": {},
   "outputs": [],
   "source": []
  },
  {
   "cell_type": "markdown",
   "metadata": {
    "jupyter": {
     "outputs_hidden": true
    }
   },
   "source": []
  },
  {
   "cell_type": "code",
   "execution_count": null,
   "metadata": {},
   "outputs": [],
   "source": []
  },
  {
   "cell_type": "markdown",
   "metadata": {},
   "source": [
    "### Sortino Ratio\n",
    "The Sortino ratio is a variation of the Sharpe ratio that differentiates **harmful volatility** from total overall volatility by using the asset's standard deviation of negative portfolio returns—downside deviation—instead of the total standard deviation of portfolio returns. The Sortino ratio takes an asset or portfolio's return and subtracts the risk-free rate, and then divides that amount by the asset's downside deviation. The ratio was named after Frank A. Sortino.\n",
    "\n",
    "#### Formula and Calculation of Sortino Ratio\n",
    "$$\\frac{r_s-r_f}{\\delta_d}$$\n",
    "\n",
    "where $r_s$ is the actual strategy return, $r_f$ is the risk-free rate and $\\delta_d$ is standard deviation of the downside\n",
    "\n",
    "#### Key points\n",
    "- The Sortino ratio differs from the Sharpe ratio in that it only considers the standard deviation of the downside risk, rather than that of the entire (upside + downside) risk.\n",
    "- Because the Sortino ratio focuses only on the negative deviation of a portfolio's returns from the mean, it is thought to give a better view of a portfolio's risk-adjusted performance since positive volatility is a benefit.\n",
    "- The Sortino ratio is a useful way for investors, analysts, and portfolio managers to evaluate an invesment's return for a given level of bad risk."
   ]
  },
  {
   "cell_type": "code",
   "execution_count": null,
   "metadata": {},
   "outputs": [],
   "source": []
  },
  {
   "cell_type": "markdown",
   "metadata": {},
   "source": [
    "#### Maximum drawdown\n",
    "\n",
    "Maximum drawdown is defined as the **peak-to-trough decline** of an investment during a specific period. It is usually quoted as a percentage of the peak value. The maximum drawdown can be calculated based on absolute returns, in order to identify strategies that suffer less during market downturns, such as low-volatility strategies. However, the maximum drawdown can also be calculated based on returns relative to a benchmark index, for identifying strategies that show steady outperformance over time.\n",
    "\n",
    "We use maximum drawdown as one of the key statistics for evaluating our quantitative investment strategies\n",
    "\n",
    "$$MDD_T = \\frac{(P-L)}{P}$$\n",
    "\n",
    "where $P$ is the peak value before largest drop during preiod $T$, and $L$ is the lowest value before new high estabilished"
   ]
  },
  {
   "cell_type": "markdown",
   "metadata": {},
   "source": [
    "- Maximum drawdown (MDD) is a measure of an asset's largest price drop from a peak to a trough.\n",
    "- Maximum drawdown is considered to be an indicator of downside risk, with large MDDs suggesting that down movements could be volatile."
   ]
  },
  {
   "cell_type": "code",
   "execution_count": 108,
   "metadata": {},
   "outputs": [
    {
     "name": "stdout",
     "output_type": "stream",
     "text": [
      "Max drawdown is 64, started from 20170904 and end by 20181012.\n"
     ]
    }
   ],
   "source": [
    "st = stock_list[0]['data'][['trade_date', 'close']].copy()\n",
    "\n",
    "def maxdd(st):\n",
    "    # st should be a DataFrame with two columns ['trade_date', 'close']\n",
    "    end_day = st['trade_date'].loc[st['close'].sub(st['close'].expanding().max(), axis=0).idxmin()]\n",
    "    start_day = st[st['trade_date']<end_day].sort_values(by = 'close', ascending = False).iloc[0]['trade_date']\n",
    "    dd = round(abs(st['close'].sub(st['close'].expanding().max(), axis=0).div(st['close'].expanding().max(), axis=0).min()) * 100)\n",
    "    return dd, start_day, end_day\n",
    "\n",
    "dd, start_day, end_day = maxdd(st)\n",
    "\n",
    "print('Max drawdown is {}, started from {} and end by {}.'.format(dd, start_day, end_day))"
   ]
  },
  {
   "cell_type": "code",
   "execution_count": 5,
   "metadata": {},
   "outputs": [],
   "source": [
    "import pandas as pd  \n",
    "import numpy as np\n",
    "import talib as ta\n",
    "from datetime import datetime,timedelta\n",
    "import matplotlib.pyplot as plt\n",
    "%matplotlib inline   \n",
    "#正常显示画图时出现的中文和负号\n",
    "from pylab import mpl\n",
    "mpl.rcParams['font.sans-serif']=['SimHei']\n",
    "mpl.rcParams['axes.unicode_minus']=False\n",
    "\n",
    "#使用tushare获取交易数据\n",
    "#设置token\n",
    "import tushare as ts \n",
    "#注意token更换为你在tushare网站上获取的\n",
    "token='1c8b06446534ae510c8c68e38fc248b99f89ac3814cb55645ae2be72' \n",
    "pro=ts.pro_api(token)\n",
    "index={'上证综指': '000001.SH',\n",
    "        '深证成指': '399001.SZ',\n",
    "        '沪深300': '000300.SH',\n",
    "        '创业板指': '399006.SZ',\n",
    "        '上证50': '000016.SH',\n",
    "        '中证500': '000905.SH',\n",
    "        '中小板指': '399005.SZ',\n",
    "        '上证180': '000010.SH'}\n",
    "#获取当前交易的股票代码和名称\n",
    "def get_code():\n",
    "    df = pro.stock_basic(exchange='', list_status='L')\n",
    "    codes=df.ts_code.values\n",
    "    names=df.name.values\n",
    "    stock=dict(zip(names,codes))\n",
    "    #合并指数和个股成一个字典\n",
    "    stocks=dict(stock,**index)\n",
    "    return stocks    \n",
    "#获取行情数据\n",
    "def get_daily_data(stock,start,end):\n",
    "    #如果代码在字典index里，则取的是指数数据\n",
    "    code=get_code()[stock]\n",
    "    if code in index.values():\n",
    "        df=pro.index_daily(ts_code=code,start_date=start, end_date=end)\n",
    "    #否则取的是个股数据\n",
    "    else:\n",
    "        df=pro.daily(ts_code=code, adj='qfq',start_date=start, end_date=end)\n",
    "    #将交易日期设置为索引值\n",
    "    df.index=pd.to_datetime(df.trade_date)\n",
    "    df=df.sort_index()\n",
    "    #计算收益率\n",
    "    df['ret']=df.close/df.close.shift(1)-1\n",
    "    return df"
   ]
  },
  {
   "cell_type": "code",
   "execution_count": 6,
   "metadata": {},
   "outputs": [
    {
     "data": {
      "text/html": [
       "<div>\n",
       "<style scoped>\n",
       "    .dataframe tbody tr th:only-of-type {\n",
       "        vertical-align: middle;\n",
       "    }\n",
       "\n",
       "    .dataframe tbody tr th {\n",
       "        vertical-align: top;\n",
       "    }\n",
       "\n",
       "    .dataframe thead th {\n",
       "        text-align: right;\n",
       "    }\n",
       "</style>\n",
       "<table border=\"1\" class=\"dataframe\">\n",
       "  <thead>\n",
       "    <tr style=\"text-align: right;\">\n",
       "      <th></th>\n",
       "      <th>close</th>\n",
       "      <th>open</th>\n",
       "      <th>high</th>\n",
       "      <th>low</th>\n",
       "      <th>vol</th>\n",
       "      <th>up</th>\n",
       "      <th>down</th>\n",
       "      <th>ATR</th>\n",
       "    </tr>\n",
       "    <tr>\n",
       "      <th>trade_date</th>\n",
       "      <th></th>\n",
       "      <th></th>\n",
       "      <th></th>\n",
       "      <th></th>\n",
       "      <th></th>\n",
       "      <th></th>\n",
       "      <th></th>\n",
       "      <th></th>\n",
       "    </tr>\n",
       "  </thead>\n",
       "  <tbody>\n",
       "    <tr>\n",
       "      <th>2020-09-09</th>\n",
       "      <td>4584.5887</td>\n",
       "      <td>4634.2470</td>\n",
       "      <td>4645.1972</td>\n",
       "      <td>4558.0304</td>\n",
       "      <td>162277107.0</td>\n",
       "      <td>4901.2115</td>\n",
       "      <td>4639.0531</td>\n",
       "      <td>89.635925</td>\n",
       "    </tr>\n",
       "    <tr>\n",
       "      <th>2020-09-10</th>\n",
       "      <td>4581.9775</td>\n",
       "      <td>4632.0994</td>\n",
       "      <td>4647.7505</td>\n",
       "      <td>4572.2058</td>\n",
       "      <td>150652878.0</td>\n",
       "      <td>4901.2115</td>\n",
       "      <td>4558.0304</td>\n",
       "      <td>88.931364</td>\n",
       "    </tr>\n",
       "    <tr>\n",
       "      <th>2020-09-11</th>\n",
       "      <td>4627.2826</td>\n",
       "      <td>4572.2572</td>\n",
       "      <td>4630.8842</td>\n",
       "      <td>4563.1061</td>\n",
       "      <td>115302424.0</td>\n",
       "      <td>4901.2115</td>\n",
       "      <td>4558.0304</td>\n",
       "      <td>87.873700</td>\n",
       "    </tr>\n",
       "    <tr>\n",
       "      <th>2020-09-14</th>\n",
       "      <td>4651.0507</td>\n",
       "      <td>4652.0539</td>\n",
       "      <td>4666.9862</td>\n",
       "      <td>4625.9877</td>\n",
       "      <td>107235179.0</td>\n",
       "      <td>4901.2115</td>\n",
       "      <td>4558.0304</td>\n",
       "      <td>85.529940</td>\n",
       "    </tr>\n",
       "    <tr>\n",
       "      <th>2020-09-15</th>\n",
       "      <td>4688.4826</td>\n",
       "      <td>4649.4472</td>\n",
       "      <td>4691.4997</td>\n",
       "      <td>4630.5374</td>\n",
       "      <td>101915925.0</td>\n",
       "      <td>4901.2115</td>\n",
       "      <td>4558.0304</td>\n",
       "      <td>84.301558</td>\n",
       "    </tr>\n",
       "  </tbody>\n",
       "</table>\n",
       "</div>"
      ],
      "text/plain": [
       "                close       open       high        low          vol  \\\n",
       "trade_date                                                            \n",
       "2020-09-09  4584.5887  4634.2470  4645.1972  4558.0304  162277107.0   \n",
       "2020-09-10  4581.9775  4632.0994  4647.7505  4572.2058  150652878.0   \n",
       "2020-09-11  4627.2826  4572.2572  4630.8842  4563.1061  115302424.0   \n",
       "2020-09-14  4651.0507  4652.0539  4666.9862  4625.9877  107235179.0   \n",
       "2020-09-15  4688.4826  4649.4472  4691.4997  4630.5374  101915925.0   \n",
       "\n",
       "                   up       down        ATR  \n",
       "trade_date                                   \n",
       "2020-09-09  4901.2115  4639.0531  89.635925  \n",
       "2020-09-10  4901.2115  4558.0304  88.931364  \n",
       "2020-09-11  4901.2115  4558.0304  87.873700  \n",
       "2020-09-14  4901.2115  4558.0304  85.529940  \n",
       "2020-09-15  4901.2115  4558.0304  84.301558  "
      ]
     },
     "execution_count": 6,
     "metadata": {},
     "output_type": "execute_result"
    }
   ],
   "source": [
    "hs=get_daily_data('沪深300','20180101','')[['close','open','high','low','vol']]\n",
    "#最近N1个交易日最高价\n",
    "hs['up']=ta.MAX(hs.high,timeperiod=20).shift(1)\n",
    "#最近N2个交易日最低价\n",
    "hs['down']=ta.MIN(hs.low,timeperiod=10).shift(1)\n",
    "#每日真实波动幅度\n",
    "hs['ATR']=ta.ATR(hs.high,hs.low,hs.close,timeperiod=20)\n",
    "hs.tail()"
   ]
  },
  {
   "cell_type": "code",
   "execution_count": 8,
   "metadata": {},
   "outputs": [
    {
     "ename": "NameError",
     "evalue": "name 'Grid' is not defined",
     "output_type": "error",
     "traceback": [
      "\u001b[1;31m---------------------------------------------------------------------------\u001b[0m",
      "\u001b[1;31mNameError\u001b[0m                                 Traceback (most recent call last)",
      "\u001b[1;32m<ipython-input-8-370a197cff93>\u001b[0m in \u001b[0;36m<module>\u001b[1;34m()\u001b[0m\n\u001b[0;32m     16\u001b[0m \u001b[1;31m#对K线图和唐奇安通道进行可视化\u001b[0m\u001b[1;33m\u001b[0m\u001b[1;33m\u001b[0m\u001b[0m\n\u001b[0;32m     17\u001b[0m \u001b[1;32mfrom\u001b[0m \u001b[0mpyecharts\u001b[0m \u001b[1;32mimport\u001b[0m \u001b[1;33m*\u001b[0m\u001b[1;33m\u001b[0m\u001b[0m\n\u001b[1;32m---> 18\u001b[1;33m \u001b[0mgrid\u001b[0m \u001b[1;33m=\u001b[0m \u001b[0mGrid\u001b[0m\u001b[1;33m(\u001b[0m\u001b[1;33m)\u001b[0m\u001b[1;33m\u001b[0m\u001b[0m\n\u001b[0m\u001b[0;32m     19\u001b[0m \u001b[0mattr\u001b[0m\u001b[1;33m=\u001b[0m\u001b[1;33m[\u001b[0m\u001b[0mstr\u001b[0m\u001b[1;33m(\u001b[0m\u001b[0mt\u001b[0m\u001b[1;33m)\u001b[0m \u001b[1;32mfor\u001b[0m \u001b[0mt\u001b[0m \u001b[1;32min\u001b[0m \u001b[0mhs\u001b[0m\u001b[1;33m.\u001b[0m\u001b[0mindex\u001b[0m\u001b[1;33m.\u001b[0m\u001b[0mstrftime\u001b[0m\u001b[1;33m(\u001b[0m\u001b[1;34m'%Y%m%d'\u001b[0m\u001b[1;33m)\u001b[0m\u001b[1;33m]\u001b[0m\u001b[1;33m\u001b[0m\u001b[0m\n\u001b[0;32m     20\u001b[0m \u001b[0mv1\u001b[0m\u001b[1;33m=\u001b[0m\u001b[0mnp\u001b[0m\u001b[1;33m.\u001b[0m\u001b[0marray\u001b[0m\u001b[1;33m(\u001b[0m\u001b[0mhs\u001b[0m\u001b[1;33m.\u001b[0m\u001b[0mloc\u001b[0m\u001b[1;33m[\u001b[0m\u001b[1;33m:\u001b[0m\u001b[1;33m,\u001b[0m\u001b[1;33m[\u001b[0m\u001b[1;34m'open'\u001b[0m\u001b[1;33m,\u001b[0m\u001b[1;34m'close'\u001b[0m\u001b[1;33m,\u001b[0m\u001b[1;34m'low'\u001b[0m\u001b[1;33m,\u001b[0m\u001b[1;34m'high'\u001b[0m\u001b[1;33m]\u001b[0m\u001b[1;33m]\u001b[0m\u001b[1;33m)\u001b[0m\u001b[1;33m\u001b[0m\u001b[0m\n",
      "\u001b[1;31mNameError\u001b[0m: name 'Grid' is not defined"
     ]
    }
   ],
   "source": [
    "def my_strategy(data):\n",
    "    x1=data.close>data.up\n",
    "    x2=data.close.shift(1)<data.up.shift(1)\n",
    "    x=x1&x2\n",
    "    y1=data.close<data.down\n",
    "    y2=data.close.shift(1)>data.down.shift(1)\n",
    "    y=y1&y2\n",
    "    data.loc[x,'signal']='buy'\n",
    "    data.loc[y,'signal']='sell'\n",
    "    buy_date=(data[data.signal=='buy'].index).strftime('%Y%m%d')\n",
    "    sell_date=(data[data.signal=='sell'].index).strftime('%Y%m%d')\n",
    "    buy_close=data[data.signal=='buy'].close.round(2).tolist()\n",
    "    sell_close=data[data.signal=='sell'].close.round(2).tolist()\n",
    "    return (buy_date,buy_close,sell_date,sell_close)\n",
    "\n",
    "#对K线图和唐奇安通道进行可视化\n",
    "from pyecharts import *\n",
    "# pip install pyecharts == 0.1.9.4\n",
    "grid = Grid()\n",
    "attr=[str(t) for t in hs.index.strftime('%Y%m%d')]\n",
    "v1=np.array(hs.loc[:,['open','close','low','high']])\n",
    "v2=np.array(hs.up)\n",
    "v3=np.array(hs.down)\n",
    "kline = Kline(\"沪深300唐奇安通道\",title_text_size=15)\n",
    "kline.add(\"K线图\", attr, v1.round(1),is_datazoom_show=True,)\n",
    "# 成交量\n",
    "bar = Bar()\n",
    "bar.add(\"成交量\", attr, hs['vol'],tooltip_tragger=\"axis\", is_legend_show=False, \n",
    "        is_yaxis_show=False, yaxis_max=5*max(hs[\"vol\"]))\n",
    "line = Line()\n",
    "line.add(\"上轨线\", attr, v2.round(1),is_datazoom_show=True,\n",
    "         is_smooth=True,is_symbol_show=False,line_width=1.5)\n",
    "line.add(\"下轨线\", attr, v3.round(1),is_datazoom_show=True,\n",
    "         is_smooth=True,is_symbol_show=False,line_width=1.5)\n",
    "#添加买卖信号\n",
    "bd,bc,sd,sc=my_strategy(hs)\n",
    "es = EffectScatter(\"buy\")\n",
    "es.add( \"sell\", sd, sc, )\n",
    "es.add(\"buy\", bd, bc,symbol=\"triangle\",)\n",
    "overlap = Overlap(width=2000, height=600)\n",
    "overlap.add(kline)\n",
    "overlap.add(line)\n",
    "overlap.add(bar,yaxis_index=1, is_add_yaxis=True)\n",
    "overlap.add(es)\n",
    "grid.add(overlap, grid_right=\"10%\")\n",
    "grid"
   ]
  },
  {
   "cell_type": "code",
   "execution_count": null,
   "metadata": {},
   "outputs": [],
   "source": [
    "#关掉pandas的warnings\n",
    "pd.options.mode.chained_assignment = None\n",
    "def strategy(stock,start,end,N1=20,N2=10):\n",
    "    df=get_daily_data(stock,start,end)\n",
    "    #最近N1个交易日最高价\n",
    "    df['H_N1']=ta.MAX(df.high,timeperiod=N1)\n",
    "    #最近N2个交易日最低价\n",
    "    df['L_N2']=ta.MIN(df.low,timeperiod=N2)\n",
    "    #当日收盘价>昨天最近N1个交易日最高点时发出信号设置为1\n",
    "    buy_index=df[df.close>df['H_N1'].shift(1)].index\n",
    "    df.loc[buy_index,'收盘信号']=1\n",
    "    #将当日收盘价<昨天最近N2个交易日的最低点时收盘信号设置为0\n",
    "    sell_index=df[df.close<df['L_N2'].shift(1)].index\n",
    "    df.loc[sell_index,'收盘信号']=0\n",
    "    df['当天仓位']=df['收盘信号'].shift(1)\n",
    "    df['当天仓位'].fillna(method='ffill',inplace=True)\n",
    "    d=df[df['当天仓位']==1].index[0]-timedelta(days=1)\n",
    "    df1=df.loc[d:].copy()\n",
    "    df1['ret'][0]=0\n",
    "    df1['当天仓位'][0]=0\n",
    "    #当仓位为1时，买入持仓，当仓位为0时，空仓，计算资金净值\n",
    "    df1['策略净值']=(df1.ret.values*df1['当天仓位'].values+1.0).cumprod()\n",
    "    df1['指数净值']=(df1.ret.values+1.0).cumprod()\n",
    "    df1['策略收益率']=df1['策略净值']/df1['策略净值'].shift(1)-1\n",
    "    df1['指数收益率']=df1.ret\n",
    "    total_ret=df1[['策略净值','指数净值']].iloc[-1]-1\n",
    "    annual_ret=pow(1+total_ret,250/len(df1))-1\n",
    "    dd=(df1[['策略净值','指数净值']].cummax()-df1[['策略净值','指数净值']])/df1[['策略净值','指数净值']].cummax()\n",
    "    d=dd.max()\n",
    "    beta=df1[['策略收益率','指数收益率']].cov().iat[0,1]/df1['指数收益率'].var()\n",
    "    alpha=(annual_ret['策略净值']-annual_ret['指数净值']*beta)\n",
    "    exReturn=df1['策略收益率']-0.03/250\n",
    "    sharper_atio=np.sqrt(len(exReturn))*exReturn.mean()/exReturn.std()\n",
    "    TA1=round(total_ret['策略净值']*100,2)\n",
    "    TA2=round(total_ret['指数净值']*100,2)\n",
    "    AR1=round(annual_ret['策略净值']*100,2)\n",
    "    AR2=round(annual_ret['指数净值']*100,2)\n",
    "    MD1=round(d['策略净值']*100,2)\n",
    "    MD2=round(d['指数净值']*100,2)\n",
    "    S=round(sharper_atio,2)\n",
    "    df1[['策略净值','指数净值']].plot(figsize=(15,7))\n",
    "    plt.title('海龟交易策略简单回测',size=15)\n",
    "    bbox = dict(boxstyle=\"round\", fc=\"w\", ec=\"0.5\", alpha=0.9)\n",
    "    plt.text(df1.index[int(len(df1)/5)], df1['指数净值'].max()/1.5, f'累计收益率：\\\n",
    "策略{TA1}%，指数{TA2}%;\\n年化收益率：策略{AR1}%，指数{AR2}%；\\n最大回撤：  策略{MD1}%，指数{MD2}%;\\n\\\n",
    "策略alpha: {round(alpha,2)}，策略beta：{round(beta,2)}; \\n夏普比率：  {S}',size=13,bbox=bbox)  \n",
    "    plt.xlabel('')\n",
    "    ax=plt.gca()\n",
    "    ax.spines['right'].set_color('none')\n",
    "    ax.spines['top'].set_color('none')\n",
    "    plt.show()\n",
    "    #return df1.loc[:,['close','ret','H_N1','L_N2','当天仓位','策略净值','指数净值']]"
   ]
  },
  {
   "cell_type": "code",
   "execution_count": null,
   "metadata": {},
   "outputs": [],
   "source": [
    "strategy('上证综指','20050101','')"
   ]
  },
  {
   "cell_type": "code",
   "execution_count": null,
   "metadata": {},
   "outputs": [],
   "source": [
    "strategy('沪深300','','')"
   ]
  },
  {
   "cell_type": "code",
   "execution_count": null,
   "metadata": {},
   "outputs": [],
   "source": [
    "strategy('创业板指','','')"
   ]
  },
  {
   "cell_type": "code",
   "execution_count": null,
   "metadata": {},
   "outputs": [],
   "source": [
    "strategy('沪深300','20180101','')"
   ]
  },
  {
   "cell_type": "code",
   "execution_count": null,
   "metadata": {},
   "outputs": [],
   "source": [
    "strategy('中国平安','20050101','',N1=20,N2=10)"
   ]
  },
  {
   "cell_type": "code",
   "execution_count": null,
   "metadata": {},
   "outputs": [],
   "source": [
    "strategy('东方通信','20130101','',N1=20,N2=10)"
   ]
  },
  {
   "cell_type": "code",
   "execution_count": null,
   "metadata": {},
   "outputs": [],
   "source": []
  }
 ],
 "metadata": {
  "kernelspec": {
   "display_name": "Python 3",
   "language": "python",
   "name": "python3"
  },
  "language_info": {
   "codemirror_mode": {
    "name": "ipython",
    "version": 3
   },
   "file_extension": ".py",
   "mimetype": "text/x-python",
   "name": "python",
   "nbconvert_exporter": "python",
   "pygments_lexer": "ipython3",
   "version": "3.7.0"
  }
 },
 "nbformat": 4,
 "nbformat_minor": 4
}
