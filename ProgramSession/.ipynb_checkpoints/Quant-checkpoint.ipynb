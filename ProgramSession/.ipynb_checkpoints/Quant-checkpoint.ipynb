{
 "cells": [
  {
   "cell_type": "code",
   "execution_count": 2,
   "metadata": {},
   "outputs": [],
   "source": [
    "# load data from multiple data source\n",
    "import tushare as ts\n",
    "import numpy as np\n",
    "import pandas as pd\n",
    "\n",
    "tushare_token = '1c8b06446534ae510c8c68e38fc248b99f89ac3814cb55645ae2be72'  \n",
    "# 请在 tushare.pro 网站注册并且告知学生身份，可以取得你的token\n",
    "pro = ts.pro_api(tushare_token)"
   ]
  },
  {
   "cell_type": "code",
   "execution_count": 3,
   "metadata": {},
   "outputs": [],
   "source": [
    "def collect_stock_data_pro(code, start_date, end_date):\n",
    "    try:\n",
    "        stk_data = pro.daily(ts_code = code, start_date =start_date , end_date = end_date)\n",
    "        \n",
    "        return stk_data\n",
    "    except:\n",
    "        print('Stock '+code+' could not collect from Tushare Pro')"
   ]
  },
  {
   "cell_type": "code",
   "execution_count": 4,
   "metadata": {},
   "outputs": [],
   "source": [
    "def random_pick_stocks_code_pro(n): \n",
    "    stock_list = pro.stock_basic(exchange='', list_status='L', fields='ts_code,symbol,name,area,industry,list_date')\n",
    "    ind = [x[0] for x in list(np.random.randint(low = 0, high = len(stock_list), size = (n, 1)))]\n",
    "    return list(stock_list.iloc[ind]['ts_code'])\n"
   ]
  },
  {
   "cell_type": "code",
   "execution_count": 9,
   "metadata": {},
   "outputs": [],
   "source": [
    "start_date='20170701'\n",
    "end_date='20200730'\n",
    "n = 3 # number of stocks you wanna collect from Tushare\n",
    "\n",
    "codes = random_pick_stocks_code_pro(n)\n",
    "stock_list = []\n",
    "for c in codes:\n",
    "    stock_info = {}\n",
    "    stock_info['code'] =  c\n",
    "    stock_info['data'] = collect_stock_data_pro(c, start_date, end_date)\n",
    "    stock_list.append(stock_info)"
   ]
  },
  {
   "cell_type": "markdown",
   "metadata": {},
   "source": [
    "### The Sharpe Ratio\n",
    "\n",
    "The Sharpe ratio is perhaps the most widely used tool for evaluating the risk-adjusted rate of return on investment portfolios. It does so by comparing the actual or expected return on an investment to the return on a risk-free investment, such as bond. It compares the two rates of return, factoring in the standard deviation for the investment portfolio, to provide an investor with an idea of how much additional gain he or she is receiving (if any) in return for taking on the additional risk associated with investing in equities."
   ]
  },
  {
   "cell_type": "markdown",
   "metadata": {},
   "source": [
    "#### Daily Stock Returns and Sharpe Ratio Calculation\n",
    "- Calculate the daily stock returns for the two investment opportunities i.e. stocks and CIS300 and name as “stock_returns” and “benchmark_returns”.\n",
    "- Calculate the relative performance of stocks vs. the benchmark by taking the difference in returns between stock_returns and benchmark_returns for each day. Name it as “excess_returns”.\n",
    "- Calculate the average of the excess_returns. This tells us how much more or less the investment yields per day compared to the benchmark. Name it as “avg_excess_returns”.\n",
    "- Calculate the standard deviation of the excess_returns. This shows us the amount of risk an investment in the stocks implies as compared to an investment in the benchmark. Name it as “std_excess_returns”.\n",
    "- Compute the ratio of avg_excess_returns and std_excess_returns. The result is now finally the Sharpe ratio and indicates how much more or less return the investment opportunity under consideration yields per unit of risk.\n",
    "- Note that Sharpe Ratio is often annualized by multiplying it by the square root of the number of periods. We have used daily data as input, so we’ll use the square root of the number of trading days."
   ]
  },
  {
   "cell_type": "code",
   "execution_count": null,
   "metadata": {},
   "outputs": [],
   "source": [
    "# calculate daily stock returns for the banks\n",
    "stock_returns = stocks.pct_change()\n",
    "\n",
    "# calculate daily stock returns for S&P\n",
    "benchmark_returns = benchmark.pct_change()\n",
    "\n",
    "# calculate the difference in daily returns for stocks vs S&P\n",
    "excess_returns = stock_returns.sub(benchmark_returns, axis=0)\n",
    "\n",
    "# calculate the mean of excess_returns \n",
    "avg_excess_return = excess_returns.mean()\n",
    "avg_excess_return.plot.bar(title='Average of excess return')"
   ]
  },
  {
   "cell_type": "code",
   "execution_count": null,
   "metadata": {},
   "outputs": [],
   "source": [
    "# calculate the standard deviation for daily excess return\n",
    "std_excess_return = excess_returns.std()\n",
    "std_excess_return.plot.bar(title='Standard Deviation of the excess return')"
   ]
  },
  {
   "cell_type": "code",
   "execution_count": null,
   "metadata": {},
   "outputs": [],
   "source": [
    "# calculate the daily sharpe ratio\n",
    "daily_sharpe_ratio = avg_excess_return.div(std_excess_return)\n",
    "# annualize the sharpe ratio\n",
    "ann = np.sqrt(len(benchmark))\n",
    "annual_sharpe_ratio = daily_sharpe_ratio.mul(ann)\n",
    "annual_sharpe_ratio.plot.bar(title='Sharpe Ratio: Stocks vs CIS 300')"
   ]
  },
  {
   "cell_type": "markdown",
   "metadata": {},
   "source": [
    "#### Information Ratio\n",
    "\n",
    "The information ratio in finance is one of the most important ratios in **active management**. The appraisal ratio measures the level of outperformance of an active strategy over the benchmark. \n",
    "\n",
    "$$IR = \\frac{E(r_s-r_b)}{std(r_s-r_b)}$$\n",
    "\n",
    "where $r_s$ is the strategy return and $r_b$ is the benchmark return, and the $std(r_s-r_b)$ could be interpreted as the **tracking error**. The difference between both is the **active return**. As such, the IR is equal to the expected active return divided by the tracking error. In other words, the ratio measures the active return of the investor's strategy divided by the amount of risk that he takes relative the the benchmark. \n",
    "\n",
    "##### Key Concept\n",
    "\n",
    "1. The information ratio is a measurement of portfolio returns above the returns of a benchmark. \n",
    "2. The information ratio is used to evaluate the skill of a portfolio manager at generating returns in excess of a given benchmark.\n",
    "3. A higher (0.3 - 0.4 would be fairly good) IR result implies a better portfolio manager who's achieving a higher return in excess of the benchmark, given the risk taken\n",
    "\n",
    "\n",
    "The information ratio identifies how much a fund has exceeded a benchmark. Higher information ratios indicate a desired level of consistency, whereas low information ratios indicate the opposite. Many investors use the information ratio when selecting exchange-traded funds (ETFs) or mutual funds based on their preferred risk profiles. Of course, past performance is not an indicator of future results, but the IR is used to determine whether a portfolio is exceeding a benchmark index fund.\n",
    "\n",
    "#### Limitation\n",
    "Comparing multiple funds against a benchmark is difficult to interpret because the funds might have different securities, asset allocations for each sector and entry points in their investments. As with any single financial ratio, it's best to look at additional types of ratios and other financial metrics to make a more comprehensive and informed investment decision."
   ]
  },
  {
   "cell_type": "code",
   "execution_count": null,
   "metadata": {},
   "outputs": [],
   "source": []
  },
  {
   "cell_type": "markdown",
   "metadata": {
    "jupyter": {
     "outputs_hidden": true
    }
   },
   "source": []
  },
  {
   "cell_type": "code",
   "execution_count": null,
   "metadata": {},
   "outputs": [],
   "source": []
  },
  {
   "cell_type": "markdown",
   "metadata": {},
   "source": [
    "### Sortino Ratio\n",
    "The Sortino ratio is a variation of the Sharpe ratio that differentiates **harmful volatility** from total overall volatility by using the asset's standard deviation of negative portfolio returns—downside deviation—instead of the total standard deviation of portfolio returns. The Sortino ratio takes an asset or portfolio's return and subtracts the risk-free rate, and then divides that amount by the asset's downside deviation. The ratio was named after Frank A. Sortino.\n",
    "\n",
    "#### Formula and Calculation of Sortino Ratio\n",
    "$$\\frac{r_s-r_f}{\\delta_d}$$\n",
    "\n",
    "where $r_s$ is the actual strategy return, $r_f$ is the risk-free rate and $\\delta_d$ is standard deviation of the downside\n",
    "\n",
    "#### Key points\n",
    "- The Sortino ratio differs from the Sharpe ratio in that it only considers the standard deviation of the downside risk, rather than that of the entire (upside + downside) risk.\n",
    "- Because the Sortino ratio focuses only on the negative deviation of a portfolio's returns from the mean, it is thought to give a better view of a portfolio's risk-adjusted performance since positive volatility is a benefit.\n",
    "- The Sortino ratio is a useful way for investors, analysts, and portfolio managers to evaluate an invesment's return for a given level of bad risk."
   ]
  },
  {
   "cell_type": "code",
   "execution_count": null,
   "metadata": {},
   "outputs": [],
   "source": []
  },
  {
   "cell_type": "markdown",
   "metadata": {},
   "source": [
    "#### Maximum drawdown\n",
    "\n",
    "Maximum drawdown is defined as the **peak-to-trough decline** of an investment during a specific period. It is usually quoted as a percentage of the peak value. The maximum drawdown can be calculated based on absolute returns, in order to identify strategies that suffer less during market downturns, such as low-volatility strategies. However, the maximum drawdown can also be calculated based on returns relative to a benchmark index, for identifying strategies that show steady outperformance over time.\n",
    "\n",
    "We use maximum drawdown as one of the key statistics for evaluating our quantitative investment strategies\n",
    "\n",
    "$$MDD_T = \\frac{(P-L)}{P}$$\n",
    "\n",
    "where $P$ is the peak value before largest drop during preiod $T$, and $L$ is the lowest value before new high estabilished"
   ]
  },
  {
   "cell_type": "markdown",
   "metadata": {},
   "source": [
    "- Maximum drawdown (MDD) is a measure of an asset's largest price drop from a peak to a trough.\n",
    "- Maximum drawdown is considered to be an indicator of downside risk, with large MDDs suggesting that down movements could be volatile."
   ]
  },
  {
   "cell_type": "code",
   "execution_count": 112,
   "metadata": {},
   "outputs": [
    {
     "data": {
      "text/plain": [
       "[{'code': '000049.SZ',\n",
       "  'data':        ts_code trade_date   open   high    low  close  pre_close  change  \\\n",
       "  0    000049.SZ   20200730  57.48  59.88  56.90  58.48      57.51    0.97   \n",
       "  1    000049.SZ   20200729  57.67  57.98  56.61  57.51      57.25    0.26   \n",
       "  2    000049.SZ   20200728  55.88  59.28  55.84  57.25      55.52    1.73   \n",
       "  3    000049.SZ   20200727  52.10  56.23  51.25  55.52      51.88    3.64   \n",
       "  4    000049.SZ   20200724  54.56  54.56  51.51  51.88      54.55   -2.67   \n",
       "  ..         ...        ...    ...    ...    ...    ...        ...     ...   \n",
       "  746  000049.SZ   20170707  57.00  57.00  55.85  56.40      57.17   -0.77   \n",
       "  747  000049.SZ   20170706  55.22  58.00  55.06  57.17      55.60    1.57   \n",
       "  748  000049.SZ   20170705  54.83  56.00  53.89  55.60      54.85    0.75   \n",
       "  749  000049.SZ   20170704  52.62  55.35  52.42  54.85      52.62    2.23   \n",
       "  750  000049.SZ   20170703  51.81  52.87  51.46  52.62      51.81    0.81   \n",
       "  \n",
       "       pct_chg       vol      amount  \n",
       "  0     1.6867  65276.71  384093.479  \n",
       "  1     0.4541  44852.87  257035.461  \n",
       "  2     3.1160  75353.80  433579.067  \n",
       "  3     7.0162  57264.67  309890.509  \n",
       "  4    -4.8946  37606.02  198680.488  \n",
       "  ..       ...       ...         ...  \n",
       "  746  -1.3500  30539.17  172260.503  \n",
       "  747   2.8200  52577.25  298050.506  \n",
       "  748   1.3700  43790.60  241346.023  \n",
       "  749   4.2400  64902.87  351357.540  \n",
       "  750   1.5600  25467.86  132779.408  \n",
       "  \n",
       "  [751 rows x 11 columns]},\n",
       " {'code': '688598.SH',\n",
       "  'data':       ts_code trade_date    open    high     low   close  pre_close  change  \\\n",
       "  0   688598.SH   20200730   91.10   94.77   89.50   93.60      90.82    2.78   \n",
       "  1   688598.SH   20200729   87.36   90.82   86.70   90.82      87.35    3.47   \n",
       "  2   688598.SH   20200728   86.03   88.52   86.03   87.35      86.00    1.35   \n",
       "  3   688598.SH   20200727   87.61   88.49   85.00   86.00      87.66   -1.66   \n",
       "  4   688598.SH   20200724   94.85   94.98   87.01   87.66      96.13   -8.47   \n",
       "  5   688598.SH   20200723   91.80   96.55   91.21   96.13      91.89    4.24   \n",
       "  6   688598.SH   20200722   92.13   93.37   90.56   91.89      91.78    0.11   \n",
       "  7   688598.SH   20200721   93.82   93.82   91.28   91.78      93.10   -1.32   \n",
       "  8   688598.SH   20200720   93.50   93.64   89.11   93.10      92.85    0.25   \n",
       "  9   688598.SH   20200717   92.80   94.47   91.01   92.85      92.96   -0.11   \n",
       "  10  688598.SH   20200716   96.12   97.00   90.33   92.96      94.42   -1.46   \n",
       "  11  688598.SH   20200715  101.67  103.81   94.27   94.42     102.48   -8.06   \n",
       "  12  688598.SH   20200714  102.90  107.71  100.02  102.48     103.27   -0.79   \n",
       "  13  688598.SH   20200713  102.40  103.97  101.00  103.27     100.60    2.67   \n",
       "  14  688598.SH   20200710  103.80  104.80  100.00  100.60     104.80   -4.20   \n",
       "  15  688598.SH   20200709  100.00  108.47   99.01  104.80      98.61    6.19   \n",
       "  16  688598.SH   20200708   99.99  103.00   98.06   98.61      95.55    3.06   \n",
       "  17  688598.SH   20200707   94.50   97.82   93.52   95.55      94.64    0.91   \n",
       "  18  688598.SH   20200706   90.32   94.89   89.57   94.64      90.42    4.22   \n",
       "  19  688598.SH   20200703   90.86   92.30   87.98   90.42      89.99    0.43   \n",
       "  20  688598.SH   20200702   91.00   91.99   89.00   89.99      90.65   -0.66   \n",
       "  21  688598.SH   20200701   92.56   94.50   88.91   90.65      92.35   -1.70   \n",
       "  22  688598.SH   20200630   90.01   94.32   90.01   92.35      88.89    3.46   \n",
       "  23  688598.SH   20200629   87.50   91.45   87.35   88.89      87.62    1.27   \n",
       "  24  688598.SH   20200624   85.00   88.59   84.57   87.62      84.25    3.37   \n",
       "  25  688598.SH   20200623   86.21   86.63   83.33   84.25      86.63   -2.38   \n",
       "  26  688598.SH   20200622   85.33   87.85   85.00   86.63      84.82    1.81   \n",
       "  27  688598.SH   20200619   85.05   85.81   84.00   84.82      85.65   -0.83   \n",
       "  28  688598.SH   20200618   85.88   86.87   85.00   85.65      86.10   -0.45   \n",
       "  29  688598.SH   20200617   84.11   86.45   82.05   86.10      84.74    1.36   \n",
       "  30  688598.SH   20200616   82.39   84.78   81.73   84.74      81.32    3.42   \n",
       "  31  688598.SH   20200615   83.08   84.77   81.30   81.32      83.99   -2.67   \n",
       "  32  688598.SH   20200612   82.66   84.86   82.37   83.99      86.11   -2.12   \n",
       "  33  688598.SH   20200611   87.99   90.69   85.70   86.11      88.80   -2.69   \n",
       "  34  688598.SH   20200610   88.23   90.39   87.10   88.80      88.78    0.02   \n",
       "  35  688598.SH   20200609   88.83   90.29   86.21   88.78      88.83   -0.05   \n",
       "  36  688598.SH   20200608   91.60   93.36   88.66   88.83      91.90   -3.07   \n",
       "  37  688598.SH   20200605   92.63   94.48   91.16   91.90      92.78   -0.88   \n",
       "  38  688598.SH   20200604   96.00   97.48   92.28   92.78      97.98   -5.20   \n",
       "  39  688598.SH   20200603   93.02   98.08   90.09   97.98      94.90    3.08   \n",
       "  40  688598.SH   20200602   97.50  102.69   94.76   94.90      95.00   -0.10   \n",
       "  41  688598.SH   20200601   89.10   96.59   86.00   95.00      88.10    6.90   \n",
       "  42  688598.SH   20200529   88.00   91.33   87.00   88.10      92.36   -4.26   \n",
       "  43  688598.SH   20200528   93.06   94.97   86.38   92.36      90.30    2.06   \n",
       "  44  688598.SH   20200527   82.04   93.15   82.04   90.30      79.58   10.72   \n",
       "  45  688598.SH   20200526   78.47   81.50   77.51   79.58      78.30    1.28   \n",
       "  46  688598.SH   20200525   88.67   88.67   76.72   78.30      88.00   -9.70   \n",
       "  47  688598.SH   20200522   87.88   92.38   86.52   88.00      87.00    1.00   \n",
       "  48  688598.SH   20200521   90.30   91.98   86.50   87.00      92.15   -5.15   \n",
       "  49  688598.SH   20200520   95.70  104.00   89.90   92.15      96.15   -4.00   \n",
       "  50  688598.SH   20200519   90.30   97.50   86.00   96.15      90.93    5.22   \n",
       "  51  688598.SH   20200518  110.00  111.90   90.88   90.93      47.20   43.73   \n",
       "  \n",
       "      pct_chg        vol       amount  \n",
       "  0    3.0610   13904.11   129003.140  \n",
       "  1    3.9725    8969.51    80480.603  \n",
       "  2    1.5698    6717.14    58698.264  \n",
       "  3   -1.8937    7983.64    68937.176  \n",
       "  4   -8.8110   18003.73   163850.865  \n",
       "  5    4.6142   17982.55   168956.307  \n",
       "  6    0.1199   10109.45    93101.897  \n",
       "  7   -1.4178    9630.46    88850.563  \n",
       "  8    0.2693   13463.33   122979.143  \n",
       "  9   -0.1183   11733.03   109084.048  \n",
       "  10  -1.5463   18593.18   173852.294  \n",
       "  11  -7.8649   26113.92   257489.373  \n",
       "  12  -0.7650   20865.84   216977.897  \n",
       "  13   2.6541   18412.14   189073.279  \n",
       "  14  -4.0076   21339.69   217654.703  \n",
       "  15   6.2773   29483.17   307649.718  \n",
       "  16   3.2025   29113.60   291402.275  \n",
       "  17   0.9615   31931.22   306765.594  \n",
       "  18   4.6671   29148.01   270960.539  \n",
       "  19   0.4778   21318.19   192086.026  \n",
       "  20  -0.7281   18589.73   167920.775  \n",
       "  21  -1.8408   26758.46   242859.035  \n",
       "  22   3.8925   31715.29   291929.432  \n",
       "  23   1.4494   22583.29   202740.605  \n",
       "  24   4.0000   25055.65   218317.230  \n",
       "  25  -2.7473   18645.18   156966.704  \n",
       "  26   2.1339   19580.41   169929.193  \n",
       "  27  -0.9691   13251.05   112534.932  \n",
       "  28  -0.5226   14552.25   124840.192  \n",
       "  29   1.6049   23040.75   195254.089  \n",
       "  30   4.2056   18590.13   154326.856  \n",
       "  31  -3.1789   20747.20   171373.028  \n",
       "  32  -2.4620   20709.25   173418.750  \n",
       "  33  -3.0293   26111.34   229447.568  \n",
       "  34   0.0225   16889.25   150052.826  \n",
       "  35  -0.0563   22339.09   196560.586  \n",
       "  36  -3.3406   27301.01   249332.999  \n",
       "  37  -0.9485   25282.43   233528.652  \n",
       "  38  -5.3072   39062.38   370155.967  \n",
       "  39   3.2455   57467.11   535569.388  \n",
       "  40  -0.1053   62762.96   617406.588  \n",
       "  41   7.8320   59296.22   551817.403  \n",
       "  42  -4.6124   45330.22   403455.509  \n",
       "  43   2.2813   69327.76   632359.012  \n",
       "  44  13.4707   75112.56   659744.144  \n",
       "  45   1.6347   35312.36   280279.187  \n",
       "  46 -11.0227   53744.10   432318.716  \n",
       "  47   1.1494   43152.61   385361.645  \n",
       "  48  -5.5887   50748.52   451369.785  \n",
       "  49  -4.1602   79996.61   773436.634  \n",
       "  50   5.7407   95238.64   889619.941  \n",
       "  51  92.6483  132169.79  1268909.491  },\n",
       " {'code': '002106.SZ',\n",
       "  'data':        ts_code trade_date   open   high    low  close  pre_close  change  \\\n",
       "  0    002106.SZ   20200730  14.70  15.24  14.58  14.92      14.60    0.32   \n",
       "  1    002106.SZ   20200729  13.84  14.65  13.74  14.60      13.84    0.76   \n",
       "  2    002106.SZ   20200728  14.00  14.13  13.65  13.84      13.80    0.04   \n",
       "  3    002106.SZ   20200727  13.85  14.14  13.65  13.80      13.81   -0.01   \n",
       "  4    002106.SZ   20200724  14.50  14.74  13.76  13.81      14.54   -0.73   \n",
       "  ..         ...        ...    ...    ...    ...    ...        ...     ...   \n",
       "  746  002106.SZ   20170707  10.21  10.28  10.13  10.26      10.23    0.03   \n",
       "  747  002106.SZ   20170706  10.29  10.33  10.16  10.23      10.34   -0.11   \n",
       "  748  002106.SZ   20170705  10.11  10.47  10.06  10.34      10.13    0.21   \n",
       "  749  002106.SZ   20170704  10.27  10.27  10.11  10.13      10.22   -0.09   \n",
       "  750  002106.SZ   20170703  10.25  10.26  10.13  10.22      10.13    0.09   \n",
       "  \n",
       "       pct_chg        vol      amount  \n",
       "  0     2.1918  318678.15  475467.071  \n",
       "  1     5.4913  298813.07  428752.753  \n",
       "  2     0.2899  161141.09  223676.119  \n",
       "  3    -0.0724  180833.85  251695.799  \n",
       "  4    -5.0206  270239.13  382423.697  \n",
       "  ..       ...        ...         ...  \n",
       "  746   0.2900   88871.56   90719.994  \n",
       "  747  -1.0600  102214.04  104680.739  \n",
       "  748   2.0700  141394.21  145000.371  \n",
       "  749  -0.8800   67094.29   68142.008  \n",
       "  750   0.8900   80963.76   82493.982  \n",
       "  \n",
       "  [751 rows x 11 columns]}]"
      ]
     },
     "execution_count": 112,
     "metadata": {},
     "output_type": "execute_result"
    }
   ],
   "source": [
    "#import matplotlib.pyplot as plt\n",
    "st = pro.daily(ts_code = '600000.SH', start_date ='20200101' , end_date = '20200831')\n",
    "stock_list\n",
    "#plt.plot(stk)\n",
    "#plt.show()\n",
    "\n",
    "#def maxdd(prices):\n",
    "    # prices should be a series\n",
    "    #return round(abs(prices.sub(prices.expanding().max(), axis=0).div(prices.expanding().max(), axis=0).min()) * 100)\n",
    "#maxdd(stk)"
   ]
  },
  {
   "cell_type": "code",
   "execution_count": 108,
   "metadata": {},
   "outputs": [
    {
     "name": "stdout",
     "output_type": "stream",
     "text": [
      "Max drawdown is 64, started from 20170904 and end by 20181012.\n"
     ]
    }
   ],
   "source": [
    "st = stock_list[0]['data'][['trade_date', 'close']].copy()\n",
    "\n",
    "def maxdd(st):\n",
    "    # st should be a DataFrame with two columns ['trade_date', 'close']\n",
    "    end_day = st['trade_date'].loc[st['close'].sub(st['close'].expanding().max(), axis=0).idxmin()]\n",
    "    start_day = st[st['trade_date']<end_day].sort_values(by = 'close', ascending = False).iloc[0]['trade_date']\n",
    "    dd = round(abs(st['close'].sub(st['close'].expanding().max(), axis=0).div(st['close'].expanding().max(), axis=0).min()) * 100)\n",
    "    return dd, start_day, end_day\n",
    "\n",
    "dd, start_day, end_day = maxdd(st)\n",
    "\n",
    "print('Max drawdown is {}, started from {} and end by {}.'.format(dd, start_day, end_day))"
   ]
  },
  {
   "cell_type": "code",
   "execution_count": null,
   "metadata": {},
   "outputs": [],
   "source": []
  }
 ],
 "metadata": {
  "kernelspec": {
   "display_name": "Python 3",
   "language": "python",
   "name": "python3"
  },
  "language_info": {
   "codemirror_mode": {
    "name": "ipython",
    "version": 3
   },
   "file_extension": ".py",
   "mimetype": "text/x-python",
   "name": "python",
   "nbconvert_exporter": "python",
   "pygments_lexer": "ipython3",
   "version": "3.6.1"
  }
 },
 "nbformat": 4,
 "nbformat_minor": 4
}
