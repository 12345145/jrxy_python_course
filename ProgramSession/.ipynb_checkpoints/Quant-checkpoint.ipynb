{
 "cells": [
  {
   "cell_type": "code",
   "execution_count": 2,
   "metadata": {},
   "outputs": [],
   "source": [
    "# load data from multiple data source\n",
    "import tushare as ts\n",
    "import numpy as np\n",
    "import pandas as pd\n",
    "\n",
    "tushare_token = '1c8b06446534ae510c8c68e38fc248b99f89ac3814cb55645ae2be72'  \n",
    "# 请在 tushare.pro 网站注册并且告知学生身份，可以取得你的token\n",
    "pro = ts.pro_api(tushare_token)"
   ]
  },
  {
   "cell_type": "code",
   "execution_count": 3,
   "metadata": {},
   "outputs": [],
   "source": [
    "def collect_stock_data_pro(code, start_date, end_date):\n",
    "    try:\n",
    "        stk_data = pro.daily(ts_code = code, start_date =start_date , end_date = end_date)\n",
    "        \n",
    "        return stk_data\n",
    "    except:\n",
    "        print('Stock '+code+' could not collect from Tushare Pro')"
   ]
  },
  {
   "cell_type": "code",
   "execution_count": 4,
   "metadata": {},
   "outputs": [],
   "source": [
    "def random_pick_stocks_code_pro(n): \n",
    "    stock_list = pro.stock_basic(exchange='', list_status='L', fields='ts_code,symbol,name,area,industry,list_date')\n",
    "    ind = [x[0] for x in list(np.random.randint(low = 0, high = len(stock_list), size = (n, 1)))]\n",
    "    return list(stock_list.iloc[ind]['ts_code'])\n"
   ]
  },
  {
   "cell_type": "code",
   "execution_count": 5,
   "metadata": {},
   "outputs": [],
   "source": [
    "start_date='20170701'\n",
    "end_date='20200730'\n",
    "n = 3 # number of stocks you wanna collect from Tushare\n",
    "\n",
    "codes = random_pick_stocks_code_pro(n)\n",
    "stock_list = []\n",
    "for c in codes:\n",
    "    stock_info = {}\n",
    "    stock_info['code'] =  c\n",
    "    stock_info['data'] = collect_stock_data_pro(c, start_date, end_date)\n",
    "    stock_list.append(stock_info)"
   ]
  },
  {
   "cell_type": "markdown",
   "metadata": {},
   "source": [
    "### The Sharpe Ratio\n",
    "\n",
    "The Sharpe ratio is perhaps the most widely used tool for evaluating the risk-adjusted rate of return on investment portfolios. It does so by comparing the actual or expected return on an investment to the return on a risk-free investment, such as bond. It compares the two rates of return, factoring in the standard deviation for the investment portfolio, to provide an investor with an idea of how much additional gain he or she is receiving (if any) in return for taking on the additional risk associated with investing in equities."
   ]
  },
  {
   "cell_type": "markdown",
   "metadata": {},
   "source": [
    "#### Daily Stock Returns and Sharpe Ratio Calculation\n",
    "- Calculate the daily stock returns for the two investment opportunities i.e. stocks and CIS300 and name as “stock_returns” and “benchmark_returns”.\n",
    "- Calculate the relative performance of stocks vs. the benchmark by taking the difference in returns between stock_returns and benchmark_returns for each day. Name it as “excess_returns”.\n",
    "- Calculate the average of the excess_returns. This tells us how much more or less the investment yields per day compared to the benchmark. Name it as “avg_excess_returns”.\n",
    "- Calculate the standard deviation of the excess_returns. This shows us the amount of risk an investment in the stocks implies as compared to an investment in the benchmark. Name it as “std_excess_returns”.\n",
    "- Compute the ratio of avg_excess_returns and std_excess_returns. The result is now finally the Sharpe ratio and indicates how much more or less return the investment opportunity under consideration yields per unit of risk.\n",
    "- Note that Sharpe Ratio is often annualized by multiplying it by the square root of the number of periods. We have used daily data as input, so we’ll use the square root of the number of trading days."
   ]
  },
  {
   "cell_type": "code",
   "execution_count": null,
   "metadata": {},
   "outputs": [],
   "source": [
    "# calculate daily stock returns for the banks\n",
    "stock_returns = stocks.pct_change()\n",
    "\n",
    "# calculate daily stock returns for S&P\n",
    "benchmark_returns = benchmark.pct_change()\n",
    "\n",
    "# calculate the difference in daily returns for stocks vs S&P\n",
    "excess_returns = stock_returns.sub(benchmark_returns, axis=0)\n",
    "\n",
    "# calculate the mean of excess_returns \n",
    "avg_excess_return = excess_returns.mean()\n",
    "avg_excess_return.plot.bar(title='Average of excess return')"
   ]
  },
  {
   "cell_type": "code",
   "execution_count": null,
   "metadata": {},
   "outputs": [],
   "source": [
    "# calculate the standard deviation for daily excess return\n",
    "std_excess_return = excess_returns.std()\n",
    "std_excess_return.plot.bar(title='Standard Deviation of the excess return')"
   ]
  },
  {
   "cell_type": "code",
   "execution_count": null,
   "metadata": {},
   "outputs": [],
   "source": [
    "# calculate the daily sharpe ratio\n",
    "daily_sharpe_ratio = avg_excess_return.div(std_excess_return)\n",
    "# annualize the sharpe ratio\n",
    "ann = np.sqrt(len(benchmark))\n",
    "annual_sharpe_ratio = daily_sharpe_ratio.mul(ann)\n",
    "annual_sharpe_ratio.plot.bar(title='Sharpe Ratio: Stocks vs CIS 300')"
   ]
  },
  {
   "cell_type": "markdown",
   "metadata": {},
   "source": [
    "#### Information Ratio\n",
    "\n",
    "The information ratio in finance is one of the most important ratios in **active management**. The appraisal ratio measures the level of outperformance of an active strategy over the benchmark. \n",
    "\n",
    "$$IR = \\frac{E(r_s-r_b)}{std(r_s-r_b)}$$\n",
    "\n",
    "where $r_s$ is the strategy return and $r_b$ is the benchmark return, and the $std(r_s-r_b)$ could be interpreted as the **tracking error**. The difference between both is the **active return**. As such, the IR is equal to the expected active return divided by the tracking error. In other words, the ratio measures the active return of the investor's strategy divided by the amount of risk that he takes relative the the benchmark. \n",
    "\n",
    "##### Key Concept\n",
    "\n",
    "1. The information ratio is a measurement of portfolio returns above the returns of a benchmark. \n",
    "2. The information ratio is used to evaluate the skill of a portfolio manager at generating returns in excess of a given benchmark.\n",
    "3. A higher (0.3 - 0.4 would be fairly good) IR result implies a better portfolio manager who's achieving a higher return in excess of the benchmark, given the risk taken\n",
    "\n",
    "\n",
    "The information ratio identifies how much a fund has exceeded a benchmark. Higher information ratios indicate a desired level of consistency, whereas low information ratios indicate the opposite. Many investors use the information ratio when selecting exchange-traded funds (ETFs) or mutual funds based on their preferred risk profiles. Of course, past performance is not an indicator of future results, but the IR is used to determine whether a portfolio is exceeding a benchmark index fund.\n",
    "\n",
    "#### Limitation\n",
    "Comparing multiple funds against a benchmark is difficult to interpret because the funds might have different securities, asset allocations for each sector and entry points in their investments. As with any single financial ratio, it's best to look at additional types of ratios and other financial metrics to make a more comprehensive and informed investment decision."
   ]
  },
  {
   "cell_type": "code",
   "execution_count": null,
   "metadata": {},
   "outputs": [],
   "source": []
  },
  {
   "cell_type": "markdown",
   "metadata": {
    "jupyter": {
     "outputs_hidden": true
    }
   },
   "source": []
  },
  {
   "cell_type": "code",
   "execution_count": null,
   "metadata": {},
   "outputs": [],
   "source": []
  },
  {
   "cell_type": "markdown",
   "metadata": {},
   "source": [
    "### Sortino Ratio\n",
    "The Sortino ratio is a variation of the Sharpe ratio that differentiates **harmful volatility** from total overall volatility by using the asset's standard deviation of negative portfolio returns—downside deviation—instead of the total standard deviation of portfolio returns. The Sortino ratio takes an asset or portfolio's return and subtracts the risk-free rate, and then divides that amount by the asset's downside deviation. The ratio was named after Frank A. Sortino.\n",
    "\n",
    "#### Formula and Calculation of Sortino Ratio\n",
    "$$\\frac{r_s-r_f}{\\delta_d}$$\n",
    "\n",
    "where $r_s$ is the actual strategy return, $r_f$ is the risk-free rate and $\\delta_d$ is standard deviation of the downside\n",
    "\n",
    "#### Key points\n",
    "- The Sortino ratio differs from the Sharpe ratio in that it only considers the standard deviation of the downside risk, rather than that of the entire (upside + downside) risk.\n",
    "- Because the Sortino ratio focuses only on the negative deviation of a portfolio's returns from the mean, it is thought to give a better view of a portfolio's risk-adjusted performance since positive volatility is a benefit.\n",
    "- The Sortino ratio is a useful way for investors, analysts, and portfolio managers to evaluate an invesment's return for a given level of bad risk."
   ]
  },
  {
   "cell_type": "markdown",
   "metadata": {},
   "source": [
    "#### Maximum drawdown\n",
    "\n",
    "Maximum drawdown is defined as the **peak-to-trough decline** of an investment during a specific period. It is usually quoted as a percentage of the peak value. The maximum drawdown can be calculated based on absolute returns, in order to identify strategies that suffer less during market downturns, such as low-volatility strategies. However, the maximum drawdown can also be calculated based on returns relative to a benchmark index, for identifying strategies that show steady outperformance over time.\n",
    "\n",
    "We use maximum drawdown as one of the key statistics for evaluating our quantitative investment strategies\n",
    "\n",
    "$$MDD_T = \\frac{(P-L)}{P}$$\n",
    "\n",
    "where $P$ is the peak value before largest drop during preiod $T$, and $L$ is the lowest value before new high estabilished"
   ]
  },
  {
   "cell_type": "markdown",
   "metadata": {},
   "source": [
    "- Maximum drawdown (MDD) is a measure of an asset's largest price drop from a peak to a trough.\n",
    "- Maximum drawdown is considered to be an indicator of downside risk, with large MDDs suggesting that down movements could be volatile."
   ]
  },
  {
   "cell_type": "code",
   "execution_count": null,
   "metadata": {},
   "outputs": [],
   "source": []
  }
 ],
 "metadata": {
  "kernelspec": {
   "display_name": "Python 3",
   "language": "python",
   "name": "python3"
  },
  "language_info": {
   "codemirror_mode": {
    "name": "ipython",
    "version": 3
   },
   "file_extension": ".py",
   "mimetype": "text/x-python",
   "name": "python",
   "nbconvert_exporter": "python",
   "pygments_lexer": "ipython3",
   "version": "3.6.1"
  }
 },
 "nbformat": 4,
 "nbformat_minor": 4
}
