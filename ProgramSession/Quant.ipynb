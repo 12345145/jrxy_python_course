{
 "cells": [
  {
   "cell_type": "code",
   "execution_count": 1,
   "metadata": {
    "collapsed": true
   },
   "outputs": [],
   "source": [
    "# load data from multiple data source\n",
    "import tushare as ts\n",
    "import numpy as np\n",
    "import pandas as pd\n",
    "\n",
    "tushare_token = '1c8b06446534ae510c8c68e38fc248b99f89ac3814cb55645ae2be72'  \n",
    "# 请在 tushare.pro 网站注册并且告知学生身份，可以取得你的token\n",
    "pro = ts.pro_api(tushare_token)"
   ]
  },
  {
   "cell_type": "code",
   "execution_count": 4,
   "metadata": {
    "collapsed": true
   },
   "outputs": [],
   "source": [
    "def collect_stock_data_pro(code, start_date, end_date):\n",
    "    try:\n",
    "        stk_data = pro.daily(ts_code = code, start_date =start_date , end_date = end_date)\n",
    "        \n",
    "        return stk_data\n",
    "    except:\n",
    "        print('Stock '+code+' could not collect from Tushare Pro')"
   ]
  },
  {
   "cell_type": "code",
   "execution_count": 3,
   "metadata": {
    "collapsed": true
   },
   "outputs": [],
   "source": [
    "def random_pick_stocks_code_pro(n): \n",
    "    stock_list = pro.stock_basic(exchange='', list_status='L', fields='ts_code,symbol,name,area,industry,list_date')\n",
    "    ind = [x[0] for x in list(np.random.randint(low = 0, high = len(stock_list), size = (n, 1)))]\n",
    "    return list(stock_list.iloc[ind]['ts_code'])\n"
   ]
  },
  {
   "cell_type": "code",
   "execution_count": 15,
   "metadata": {
    "collapsed": true
   },
   "outputs": [],
   "source": [
    "start_date='20170701'\n",
    "end_date='20200730'\n",
    "n = 1\n",
    "\n",
    "codes = random_pick_stocks_code_pro(n)\n",
    "stock_list = []\n",
    "for c in codes:\n",
    "    stock_info = {}\n",
    "    stock_info['code'] =  c\n",
    "    stock_info['data'] = collect_stock_data_pro(c, start_date, end_date)\n",
    "    stock_list.append(stock_info)"
   ]
  },
  {
   "cell_type": "code",
   "execution_count": 16,
   "metadata": {},
   "outputs": [
    {
     "data": {
      "text/plain": [
       "[{'code': '002133.SZ',\n",
       "  'data':        ts_code trade_date  open  high   low  close  pre_close  change  \\\n",
       "  0    002133.SZ   20200730  3.23  3.24  3.20   3.22       3.23   -0.01   \n",
       "  1    002133.SZ   20200729  3.18  3.23  3.15   3.23       3.18    0.05   \n",
       "  2    002133.SZ   20200728  3.19  3.21  3.15   3.18       3.18    0.00   \n",
       "  3    002133.SZ   20200727  3.22  3.22  3.15   3.18       3.21   -0.03   \n",
       "  4    002133.SZ   20200724  3.27  3.32  3.18   3.21       3.28   -0.07   \n",
       "  ..         ...        ...   ...   ...   ...    ...        ...     ...   \n",
       "  746  002133.SZ   20170707  5.63  5.67  5.59   5.66       5.64    0.02   \n",
       "  747  002133.SZ   20170706  5.59  5.68  5.57   5.64       5.59    0.05   \n",
       "  748  002133.SZ   20170705  5.54  5.61  5.54   5.59       5.56    0.03   \n",
       "  749  002133.SZ   20170704  5.60  5.60  5.54   5.56       5.58   -0.02   \n",
       "  750  002133.SZ   20170703  5.54  5.59  5.53   5.58       5.54    0.04   \n",
       "  \n",
       "       pct_chg       vol     amount  \n",
       "  0    -0.3096  49075.34  15781.896  \n",
       "  1     1.5723  43126.21  13805.283  \n",
       "  2     0.0000  43539.60  13851.282  \n",
       "  3    -0.9346  47341.29  15021.045  \n",
       "  4    -2.1341  74748.60  24289.831  \n",
       "  ..       ...       ...        ...  \n",
       "  746   0.3500  60822.08  34216.944  \n",
       "  747   0.8900  61016.72  34356.355  \n",
       "  748   0.5400  60745.90  33867.869  \n",
       "  749  -0.3600  37522.38  20868.618  \n",
       "  750   0.7200  45793.95  25491.593  \n",
       "  \n",
       "  [751 rows x 11 columns]}]"
      ]
     },
     "execution_count": 16,
     "metadata": {},
     "output_type": "execute_result"
    }
   ],
   "source": [
    "stock_list"
   ]
  },
  {
   "cell_type": "markdown",
   "metadata": {
    "collapsed": true
   },
   "source": [
    "#### Information Ratio\n",
    "\n",
    "The information ratio in finance is one of the most important ratios in **active management**. The appraisal ratio measures the level of outperformance of an active strategy over the benchmark. \n",
    "\n",
    "$$IR = \\frac{E(r_s-r_b)}{std(r_s-r_b)}$$\n",
    "\n",
    "where $r_s$ is the strategy return and $r_b$ is the benchmark return. The difference between both is the **active return**. As such, the IR is equal to the expected active return divided by the tracking error. In other words, the ratio measures the active return of the investor's strategy divided by the amount of risk that he takes relative the the benchmark. \n",
    "\n",
    "##### Key Concept\n",
    "\n",
    "1. The information ratio is a measurement of portfolio returns above the returns of a benchmark. \n",
    "2. The information ratio is used to evaluate the skill of a portfolio manager at generating returns in excess of a given benchmark.\n",
    "3. A higher (0.3 - 0.4 would be fairly good) IR result implies a better portfolio manager who's achieving a higher return in excess of the benchmark, given the risk taken\n"
   ]
  },
  {
   "cell_type": "code",
   "execution_count": null,
   "metadata": {
    "collapsed": true
   },
   "outputs": [],
   "source": []
  },
  {
   "cell_type": "code",
   "execution_count": null,
   "metadata": {
    "collapsed": true
   },
   "outputs": [],
   "source": []
  }
 ],
 "metadata": {
  "kernelspec": {
   "display_name": "Python 3",
   "language": "python",
   "name": "python3"
  },
  "language_info": {
   "codemirror_mode": {
    "name": "ipython",
    "version": 3
   },
   "file_extension": ".py",
   "mimetype": "text/x-python",
   "name": "python",
   "nbconvert_exporter": "python",
   "pygments_lexer": "ipython3",
   "version": "3.6.1"
  }
 },
 "nbformat": 4,
 "nbformat_minor": 4
}
