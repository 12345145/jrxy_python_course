{
 "cells": [
  {
   "cell_type": "code",
   "execution_count": 1,
   "metadata": {},
   "outputs": [],
   "source": [
    "# load data from multiple data source\n",
    "import tushare as ts\n",
    "import numpy as np\n",
    "import pandas as pd\n",
    "\n",
    "tushare_token = '1c8b06446534ae510c8c68e38fc248b99f89ac3814cb55645ae2be72'  \n",
    "# 请在 tushare.pro 网站注册并且告知学生身份，可以取得你的token\n",
    "pro = ts.pro_api(tushare_token)"
   ]
  },
  {
   "cell_type": "code",
   "execution_count": 2,
   "metadata": {},
   "outputs": [],
   "source": [
    "def collect_stock_data_pro(code, start_date, end_date):\n",
    "    try:\n",
    "        stk_data = pro.daily(ts_code = code, start_date =start_date , end_date = end_date)\n",
    "        \n",
    "        return stk_data\n",
    "    except:\n",
    "        print('Stock '+code+' could not collect from Tushare Pro')"
   ]
  },
  {
   "cell_type": "code",
   "execution_count": 3,
   "metadata": {},
   "outputs": [],
   "source": [
    "def random_pick_stocks_code_pro(n): \n",
    "    stock_list = pro.stock_basic(exchange='', list_status='L', fields='ts_code,symbol,name,area,industry,list_date')\n",
    "    ind = [x[0] for x in list(np.random.randint(low = 0, high = len(stock_list), size = (n, 1)))]\n",
    "    return list(stock_list.iloc[ind]['ts_code'])\n"
   ]
  },
  {
   "cell_type": "code",
   "execution_count": 4,
   "metadata": {},
   "outputs": [],
   "source": [
    "start_date='20170701'\n",
    "end_date='20200730'\n",
    "n = 3 # number of stocks you wanna collect from Tushare\n",
    "\n",
    "codes = random_pick_stocks_code_pro(n)\n",
    "stock_list = []\n",
    "for c in codes:\n",
    "    stock_info = {}\n",
    "    stock_info['code'] =  c\n",
    "    stock_info['data'] = collect_stock_data_pro(c, start_date, end_date)\n",
    "    stock_list.append(stock_info)"
   ]
  },
  {
   "cell_type": "markdown",
   "metadata": {},
   "source": [
    "### The Sharpe Ratio\n",
    "\n",
    "The Sharpe ratio is perhaps the most widely used tool for evaluating the risk-adjusted rate of return on investment portfolios. It does so by comparing the actual or expected return on an investment to the return on a risk-free investment, such as bond. It compares the two rates of return, factoring in the standard deviation for the investment portfolio, to provide an investor with an idea of how much additional gain he or she is receiving (if any) in return for taking on the additional risk associated with investing in equities."
   ]
  },
  {
   "cell_type": "markdown",
   "metadata": {},
   "source": [
    "#### Daily Stock Returns and Sharpe Ratio Calculation\n",
    "- Calculate the daily stock returns for the two investment opportunities i.e. stocks and CIS300 and name as “stock_returns” and “benchmark_returns”.\n",
    "- Calculate the relative performance of stocks vs. the benchmark by taking the difference in returns between stock_returns and benchmark_returns for each day. Name it as “excess_returns”.\n",
    "- Calculate the average of the excess_returns. This tells us how much more or less the investment yields per day compared to the benchmark. Name it as “avg_excess_returns”.\n",
    "- Calculate the standard deviation of the excess_returns. This shows us the amount of risk an investment in the stocks implies as compared to an investment in the benchmark. Name it as “std_excess_returns”.\n",
    "- Compute the ratio of avg_excess_returns and std_excess_returns. The result is now finally the Sharpe ratio and indicates how much more or less return the investment opportunity under consideration yields per unit of risk.\n",
    "- Note that Sharpe Ratio is often annualized by multiplying it by the square root of the number of periods. We have used daily data as input, so we’ll use the square root of the number of trading days."
   ]
  },
  {
   "cell_type": "code",
   "execution_count": null,
   "metadata": {},
   "outputs": [],
   "source": [
    "# calculate daily stock returns for the banks\n",
    "stock_returns = stocks.pct_change()\n",
    "\n",
    "# calculate daily stock returns for S&P\n",
    "benchmark_returns = benchmark.pct_change()\n",
    "\n",
    "# calculate the difference in daily returns for stocks vs S&P\n",
    "excess_returns = stock_returns.sub(benchmark_returns, axis=0)\n",
    "\n",
    "# calculate the mean of excess_returns \n",
    "avg_excess_return = excess_returns.mean()\n",
    "avg_excess_return.plot.bar(title='Average of excess return')"
   ]
  },
  {
   "cell_type": "code",
   "execution_count": null,
   "metadata": {},
   "outputs": [],
   "source": [
    "# calculate the standard deviation for daily excess return\n",
    "std_excess_return = excess_returns.std()\n",
    "std_excess_return.plot.bar(title='Standard Deviation of the excess return')"
   ]
  },
  {
   "cell_type": "code",
   "execution_count": null,
   "metadata": {},
   "outputs": [],
   "source": [
    "# calculate the daily sharpe ratio\n",
    "daily_sharpe_ratio = avg_excess_return.div(std_excess_return)\n",
    "# annualize the sharpe ratio\n",
    "ann = np.sqrt(len(benchmark))\n",
    "annual_sharpe_ratio = daily_sharpe_ratio.mul(ann)\n",
    "annual_sharpe_ratio.plot.bar(title='Sharpe Ratio: Stocks vs CIS 300')"
   ]
  },
  {
   "cell_type": "markdown",
   "metadata": {},
   "source": [
    "#### Information Ratio\n",
    "\n",
    "The information ratio in finance is one of the most important ratios in **active management**. The appraisal ratio measures the level of outperformance of an active strategy over the benchmark. \n",
    "\n",
    "$$IR = \\frac{E(r_s-r_b)}{std(r_s-r_b)}$$\n",
    "\n",
    "where $r_s$ is the strategy return and $r_b$ is the benchmark return, and the $std(r_s-r_b)$ could be interpreted as the **tracking error**. The difference between both is the **active return**. As such, the IR is equal to the expected active return divided by the tracking error. In other words, the ratio measures the active return of the investor's strategy divided by the amount of risk that he takes relative the the benchmark. \n",
    "\n",
    "##### Key Concept\n",
    "\n",
    "1. The information ratio is a measurement of portfolio returns above the returns of a benchmark. \n",
    "2. The information ratio is used to evaluate the skill of a portfolio manager at generating returns in excess of a given benchmark.\n",
    "3. A higher (0.3 - 0.4 would be fairly good) IR result implies a better portfolio manager who's achieving a higher return in excess of the benchmark, given the risk taken\n",
    "\n",
    "\n",
    "The information ratio identifies how much a fund has exceeded a benchmark. Higher information ratios indicate a desired level of consistency, whereas low information ratios indicate the opposite. Many investors use the information ratio when selecting exchange-traded funds (ETFs) or mutual funds based on their preferred risk profiles. Of course, past performance is not an indicator of future results, but the IR is used to determine whether a portfolio is exceeding a benchmark index fund.\n",
    "\n",
    "#### Limitation\n",
    "Comparing multiple funds against a benchmark is difficult to interpret because the funds might have different securities, asset allocations for each sector and entry points in their investments. As with any single financial ratio, it's best to look at additional types of ratios and other financial metrics to make a more comprehensive and informed investment decision."
   ]
  },
  {
   "cell_type": "code",
   "execution_count": null,
   "metadata": {},
   "outputs": [],
   "source": []
  },
  {
   "cell_type": "markdown",
   "metadata": {
    "jupyter": {
     "outputs_hidden": true
    }
   },
   "source": []
  },
  {
   "cell_type": "code",
   "execution_count": null,
   "metadata": {},
   "outputs": [],
   "source": []
  },
  {
   "cell_type": "markdown",
   "metadata": {},
   "source": [
    "### Sortino Ratio\n",
    "The Sortino ratio is a variation of the Sharpe ratio that differentiates **harmful volatility** from total overall volatility by using the asset's standard deviation of negative portfolio returns—downside deviation—instead of the total standard deviation of portfolio returns. The Sortino ratio takes an asset or portfolio's return and subtracts the risk-free rate, and then divides that amount by the asset's downside deviation. The ratio was named after Frank A. Sortino.\n",
    "\n",
    "#### Formula and Calculation of Sortino Ratio\n",
    "$$\\frac{r_s-r_f}{\\delta_d}$$\n",
    "\n",
    "where $r_s$ is the actual strategy return, $r_f$ is the risk-free rate and $\\delta_d$ is standard deviation of the downside\n",
    "\n",
    "#### Key points\n",
    "- The Sortino ratio differs from the Sharpe ratio in that it only considers the standard deviation of the downside risk, rather than that of the entire (upside + downside) risk.\n",
    "- Because the Sortino ratio focuses only on the negative deviation of a portfolio's returns from the mean, it is thought to give a better view of a portfolio's risk-adjusted performance since positive volatility is a benefit.\n",
    "- The Sortino ratio is a useful way for investors, analysts, and portfolio managers to evaluate an invesment's return for a given level of bad risk."
   ]
  },
  {
   "cell_type": "code",
   "execution_count": null,
   "metadata": {},
   "outputs": [],
   "source": []
  },
  {
   "cell_type": "markdown",
   "metadata": {},
   "source": [
    "#### Maximum drawdown\n",
    "\n",
    "Maximum drawdown is defined as the **peak-to-trough decline** of an investment during a specific period. It is usually quoted as a percentage of the peak value. The maximum drawdown can be calculated based on absolute returns, in order to identify strategies that suffer less during market downturns, such as low-volatility strategies. However, the maximum drawdown can also be calculated based on returns relative to a benchmark index, for identifying strategies that show steady outperformance over time.\n",
    "\n",
    "We use maximum drawdown as one of the key statistics for evaluating our quantitative investment strategies\n",
    "\n",
    "$$MDD_T = \\frac{(P-L)}{P}$$\n",
    "\n",
    "where $P$ is the peak value before largest drop during preiod $T$, and $L$ is the lowest value before new high estabilished"
   ]
  },
  {
   "cell_type": "markdown",
   "metadata": {},
   "source": [
    "- Maximum drawdown (MDD) is a measure of an asset's largest price drop from a peak to a trough.\n",
    "- Maximum drawdown is considered to be an indicator of downside risk, with large MDDs suggesting that down movements could be volatile."
   ]
  },
  {
   "cell_type": "code",
   "execution_count": 119,
   "metadata": {},
   "outputs": [
    {
     "ename": "AttributeError",
     "evalue": "'NoneType' object has no attribute 'items'",
     "output_type": "error",
     "traceback": [
      "\u001b[1;31m---------------------------------------------------------------------------\u001b[0m",
      "\u001b[1;31mAttributeError\u001b[0m                            Traceback (most recent call last)",
      "\u001b[1;32mc:\\programdata\\anaconda3\\lib\\site-packages\\IPython\\core\\formatters.py\u001b[0m in \u001b[0;36m__call__\u001b[1;34m(self, obj)\u001b[0m\n\u001b[0;32m    309\u001b[0m             \u001b[0mmethod\u001b[0m \u001b[1;33m=\u001b[0m \u001b[0mget_real_method\u001b[0m\u001b[1;33m(\u001b[0m\u001b[0mobj\u001b[0m\u001b[1;33m,\u001b[0m \u001b[0mself\u001b[0m\u001b[1;33m.\u001b[0m\u001b[0mprint_method\u001b[0m\u001b[1;33m)\u001b[0m\u001b[1;33m\u001b[0m\u001b[0m\n\u001b[0;32m    310\u001b[0m             \u001b[1;32mif\u001b[0m \u001b[0mmethod\u001b[0m \u001b[1;32mis\u001b[0m \u001b[1;32mnot\u001b[0m \u001b[1;32mNone\u001b[0m\u001b[1;33m:\u001b[0m\u001b[1;33m\u001b[0m\u001b[0m\n\u001b[1;32m--> 311\u001b[1;33m                 \u001b[1;32mreturn\u001b[0m \u001b[0mmethod\u001b[0m\u001b[1;33m(\u001b[0m\u001b[1;33m)\u001b[0m\u001b[1;33m\u001b[0m\u001b[0m\n\u001b[0m\u001b[0;32m    312\u001b[0m             \u001b[1;32mreturn\u001b[0m \u001b[1;32mNone\u001b[0m\u001b[1;33m\u001b[0m\u001b[0m\n\u001b[0;32m    313\u001b[0m         \u001b[1;32melse\u001b[0m\u001b[1;33m:\u001b[0m\u001b[1;33m\u001b[0m\u001b[0m\n",
      "\u001b[1;32mc:\\programdata\\anaconda3\\lib\\site-packages\\pandas\\core\\frame.py\u001b[0m in \u001b[0;36m_repr_html_\u001b[1;34m(self)\u001b[0m\n\u001b[0;32m    732\u001b[0m             \u001b[0mself\u001b[0m\u001b[1;33m.\u001b[0m\u001b[0minfo\u001b[0m\u001b[1;33m(\u001b[0m\u001b[0mbuf\u001b[0m\u001b[1;33m=\u001b[0m\u001b[0mbuf\u001b[0m\u001b[1;33m)\u001b[0m\u001b[1;33m\u001b[0m\u001b[0m\n\u001b[0;32m    733\u001b[0m             \u001b[1;32mreturn\u001b[0m \u001b[0mbuf\u001b[0m\u001b[1;33m.\u001b[0m\u001b[0mgetvalue\u001b[0m\u001b[1;33m(\u001b[0m\u001b[1;33m)\u001b[0m\u001b[1;33m\u001b[0m\u001b[0m\n\u001b[1;32m--> 734\u001b[1;33m \u001b[1;33m\u001b[0m\u001b[0m\n\u001b[0m\u001b[0;32m    735\u001b[0m         \u001b[0mmax_rows\u001b[0m \u001b[1;33m=\u001b[0m \u001b[0mget_option\u001b[0m\u001b[1;33m(\u001b[0m\u001b[1;34m\"display.max_rows\"\u001b[0m\u001b[1;33m)\u001b[0m\u001b[1;33m\u001b[0m\u001b[0m\n\u001b[0;32m    736\u001b[0m         \u001b[0mmin_rows\u001b[0m \u001b[1;33m=\u001b[0m \u001b[0mget_option\u001b[0m\u001b[1;33m(\u001b[0m\u001b[1;34m\"display.min_rows\"\u001b[0m\u001b[1;33m)\u001b[0m\u001b[1;33m\u001b[0m\u001b[0m\n",
      "\u001b[1;32mc:\\programdata\\anaconda3\\lib\\site-packages\\pandas\\io\\formats\\format.py\u001b[0m in \u001b[0;36mto_html\u001b[1;34m(self, buf, encoding, classes, notebook, border)\u001b[0m\n\u001b[0;32m    980\u001b[0m             \u001b[0mWhether\u001b[0m \u001b[0mthe\u001b[0m \u001b[0mgenerated\u001b[0m \u001b[0mHTML\u001b[0m \u001b[1;32mis\u001b[0m \u001b[1;32mfor\u001b[0m \u001b[0mIPython\u001b[0m \u001b[0mNotebook\u001b[0m\u001b[1;33m.\u001b[0m\u001b[1;33m\u001b[0m\u001b[0m\n\u001b[0;32m    981\u001b[0m         \u001b[0mborder\u001b[0m \u001b[1;33m:\u001b[0m \u001b[0mint\u001b[0m\u001b[1;33m\u001b[0m\u001b[0m\n\u001b[1;32m--> 982\u001b[1;33m             \u001b[0mA\u001b[0m\u001b[0;31m \u001b[0m\u001b[0;31m`\u001b[0m\u001b[0;31m`\u001b[0m\u001b[0mborder\u001b[0m\u001b[1;33m=\u001b[0m\u001b[0mborder\u001b[0m\u001b[0;31m`\u001b[0m\u001b[0;31m`\u001b[0m \u001b[0mattribute\u001b[0m \u001b[1;32mis\u001b[0m \u001b[0mincluded\u001b[0m \u001b[1;32min\u001b[0m \u001b[0mthe\u001b[0m \u001b[0mopening\u001b[0m\u001b[1;33m\u001b[0m\u001b[0m\n\u001b[0m\u001b[0;32m    983\u001b[0m             \u001b[0;31m`\u001b[0m\u001b[0;31m`\u001b[0m\u001b[1;33m<\u001b[0m\u001b[0mtable\u001b[0m\u001b[1;33m>\u001b[0m\u001b[0;31m`\u001b[0m\u001b[0;31m`\u001b[0m \u001b[0mtag\u001b[0m\u001b[1;33m.\u001b[0m \u001b[0mDefault\u001b[0m\u001b[0;31m \u001b[0m\u001b[0;31m`\u001b[0m\u001b[0;31m`\u001b[0m\u001b[0mpd\u001b[0m\u001b[1;33m.\u001b[0m\u001b[0moptions\u001b[0m\u001b[1;33m.\u001b[0m\u001b[0mdisplay\u001b[0m\u001b[1;33m.\u001b[0m\u001b[0mhtml\u001b[0m\u001b[1;33m.\u001b[0m\u001b[0mborder\u001b[0m\u001b[0;31m`\u001b[0m\u001b[0;31m`\u001b[0m\u001b[1;33m.\u001b[0m\u001b[1;33m\u001b[0m\u001b[0m\n\u001b[0;32m    984\u001b[0m         \"\"\"\n",
      "\u001b[1;32mc:\\programdata\\anaconda3\\lib\\site-packages\\pandas\\io\\formats\\html.py\u001b[0m in \u001b[0;36m__init__\u001b[1;34m(self, formatter, classes, border)\u001b[0m\n\u001b[0;32m     57\u001b[0m         self.col_space = {\n\u001b[0;32m     58\u001b[0m             \u001b[0mcolumn\u001b[0m\u001b[1;33m:\u001b[0m \u001b[1;34mf\"{value}px\"\u001b[0m \u001b[1;32mif\u001b[0m \u001b[0misinstance\u001b[0m\u001b[1;33m(\u001b[0m\u001b[0mvalue\u001b[0m\u001b[1;33m,\u001b[0m \u001b[0mint\u001b[0m\u001b[1;33m)\u001b[0m \u001b[1;32melse\u001b[0m \u001b[0mvalue\u001b[0m\u001b[1;33m\u001b[0m\u001b[0m\n\u001b[1;32m---> 59\u001b[1;33m             \u001b[1;32mfor\u001b[0m \u001b[0mcolumn\u001b[0m\u001b[1;33m,\u001b[0m \u001b[0mvalue\u001b[0m \u001b[1;32min\u001b[0m \u001b[0mself\u001b[0m\u001b[1;33m.\u001b[0m\u001b[0mfmt\u001b[0m\u001b[1;33m.\u001b[0m\u001b[0mcol_space\u001b[0m\u001b[1;33m.\u001b[0m\u001b[0mitems\u001b[0m\u001b[1;33m(\u001b[0m\u001b[1;33m)\u001b[0m\u001b[1;33m\u001b[0m\u001b[0m\n\u001b[0m\u001b[0;32m     60\u001b[0m         }\n\u001b[0;32m     61\u001b[0m \u001b[1;33m\u001b[0m\u001b[0m\n",
      "\u001b[1;31mAttributeError\u001b[0m: 'NoneType' object has no attribute 'items'"
     ]
    },
    {
     "data": {
      "text/plain": [
       "       ts_code trade_date   open   high    low  close  pre_close  change  \\\n",
       "0    000049.SZ   20200730  57.48  59.88  56.90  58.48      57.51    0.97   \n",
       "1    000049.SZ   20200729  57.67  57.98  56.61  57.51      57.25    0.26   \n",
       "2    000049.SZ   20200728  55.88  59.28  55.84  57.25      55.52    1.73   \n",
       "3    000049.SZ   20200727  52.10  56.23  51.25  55.52      51.88    3.64   \n",
       "4    000049.SZ   20200724  54.56  54.56  51.51  51.88      54.55   -2.67   \n",
       "..         ...        ...    ...    ...    ...    ...        ...     ...   \n",
       "746  000049.SZ   20170707  57.00  57.00  55.85  56.40      57.17   -0.77   \n",
       "747  000049.SZ   20170706  55.22  58.00  55.06  57.17      55.60    1.57   \n",
       "748  000049.SZ   20170705  54.83  56.00  53.89  55.60      54.85    0.75   \n",
       "749  000049.SZ   20170704  52.62  55.35  52.42  54.85      52.62    2.23   \n",
       "750  000049.SZ   20170703  51.81  52.87  51.46  52.62      51.81    0.81   \n",
       "\n",
       "     pct_chg       vol      amount  \n",
       "0     1.6867  65276.71  384093.479  \n",
       "1     0.4541  44852.87  257035.461  \n",
       "2     3.1160  75353.80  433579.067  \n",
       "3     7.0162  57264.67  309890.509  \n",
       "4    -4.8946  37606.02  198680.488  \n",
       "..       ...       ...         ...  \n",
       "746  -1.3500  30539.17  172260.503  \n",
       "747   2.8200  52577.25  298050.506  \n",
       "748   1.3700  43790.60  241346.023  \n",
       "749   4.2400  64902.87  351357.540  \n",
       "750   1.5600  25467.86  132779.408  \n",
       "\n",
       "[751 rows x 11 columns]"
      ]
     },
     "execution_count": 119,
     "metadata": {},
     "output_type": "execute_result"
    }
   ],
   "source": [
    "#import matplotlib.pyplot as plt\n",
    "#st = pro.daily(ts_code = '600000.SH', start_date ='20200101' , end_date = '20200831')\n",
    "st = stock_list[0]['data']\n",
    "type(st)\n",
    "st\n",
    "#plt.plot(stk)\n",
    "#plt.show()\n",
    "\n",
    "#def maxdd(prices):\n",
    "    # prices should be a series\n",
    "    #return round(abs(prices.sub(prices.expanding().max(), axis=0).div(prices.expanding().max(), axis=0).min()) * 100)\n",
    "#maxdd(stk)"
   ]
  },
  {
   "cell_type": "code",
   "execution_count": 108,
   "metadata": {},
   "outputs": [
    {
     "name": "stdout",
     "output_type": "stream",
     "text": [
      "Max drawdown is 64, started from 20170904 and end by 20181012.\n"
     ]
    }
   ],
   "source": [
    "st = stock_list[0]['data'][['trade_date', 'close']].copy()\n",
    "\n",
    "def maxdd(st):\n",
    "    # st should be a DataFrame with two columns ['trade_date', 'close']\n",
    "    end_day = st['trade_date'].loc[st['close'].sub(st['close'].expanding().max(), axis=0).idxmin()]\n",
    "    start_day = st[st['trade_date']<end_day].sort_values(by = 'close', ascending = False).iloc[0]['trade_date']\n",
    "    dd = round(abs(st['close'].sub(st['close'].expanding().max(), axis=0).div(st['close'].expanding().max(), axis=0).min()) * 100)\n",
    "    return dd, start_day, end_day\n",
    "\n",
    "dd, start_day, end_day = maxdd(st)\n",
    "\n",
    "print('Max drawdown is {}, started from {} and end by {}.'.format(dd, start_day, end_day))"
   ]
  },
  {
   "cell_type": "code",
   "execution_count": null,
   "metadata": {},
   "outputs": [],
   "source": []
  }
 ],
 "metadata": {
  "kernelspec": {
   "display_name": "Python 2",
   "language": "python",
   "name": "python2"
  },
  "language_info": {
   "codemirror_mode": {
    "name": "ipython",
    "version": 3
   },
   "file_extension": ".py",
   "mimetype": "text/x-python",
   "name": "python",
   "nbconvert_exporter": "python",
   "pygments_lexer": "ipython3",
   "version": "3.7.0"
  }
 },
 "nbformat": 4,
 "nbformat_minor": 4
}
