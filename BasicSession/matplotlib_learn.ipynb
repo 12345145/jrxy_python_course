{
 "cells": [
  {
   "cell_type": "markdown",
   "metadata": {},
   "source": [
    "#### Matplotlib \n",
    "\n",
    "Matplotlib 是 Python 的绘图库。 它可与 NumPy 一起使用，提供了一种有效的 MatLab 开源替代方案。 它也可以和图形工具包一起使用。它有一套完全仿照MATLAB的函数形式的绘图接口，在matplotlib.pyplot模块中。这套函数接口方便MATLAB用户过度到matplotlib包。 \n",
    "\n",
    "官网： http://matplotlib.org/\n",
    "\n",
    "**配置参数**：\n",
    "\n",
    "axex: 设置坐标轴边界和表面的颜色、坐标刻度值大小和网格的显示\n",
    "\n",
    "figure: 控制dpi、边界颜色、图形大小、和子区( subplot)设置\n",
    "\n",
    "font: 字体集（font family）、字体大小和样式设置\n",
    "\n",
    "grid: 设置网格颜色和线性\n",
    "\n",
    "legend: 设置图例和其中的文本的显示\n",
    "\n",
    "line: 设置线条（颜色、线型、宽度等）和标记\n",
    "\n",
    "patch: 是填充2D空间的图形对象，如多边形和圆。控制线宽、颜色和抗锯齿设置等。\n",
    "\n",
    "savefig: 可以对保存的图形进行单独设置。例如，设置渲染的文件的背景为白色。\n",
    "\n",
    "verbose: 设置matplotlib在执行期间信息输出，如silent、helpful、debug和debug-annoying。\n",
    "\n",
    "xticks和yticks: 为x,y轴的主刻度和次刻度设置颜色、大小、方向，以及标签大小。\n",
    "\n",
    "\n",
    "\n",
    "**学习资源**：\n",
    "\n",
    "- 官网资源\n",
    " 1. http://matplotlib.org/examples/index.html\n",
    " 2. http://matplotlib.org/gallery.html\n",
    "\n",
    "\n",
    "- Matplotlib 数据可视化神器 莫烦 [Here](https://morvanzhou.github.io/tutorials/data-manipulation/plt/)"
   ]
  },
  {
   "cell_type": "code",
   "execution_count": null,
   "metadata": {
    "collapsed": true
   },
   "outputs": [],
   "source": []
  }
 ],
 "metadata": {
  "kernelspec": {
   "display_name": "Python 3",
   "language": "python",
   "name": "python3"
  },
  "language_info": {
   "codemirror_mode": {
    "name": "ipython",
    "version": 3
   },
   "file_extension": ".py",
   "mimetype": "text/x-python",
   "name": "python",
   "nbconvert_exporter": "python",
   "pygments_lexer": "ipython3",
   "version": "3.6.1"
  }
 },
 "nbformat": 4,
 "nbformat_minor": 2
}
